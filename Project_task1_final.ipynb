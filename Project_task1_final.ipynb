{
 "cells": [
  {
   "cell_type": "markdown",
   "metadata": {
    "id": "0IcWXfn-SKPm"
   },
   "source": [
    "# Task 1"
   ]
  },
  {
   "cell_type": "markdown",
   "metadata": {
    "id": "6ZfIjH4QSKPs"
   },
   "source": [
    "## Setting up the notebook"
   ]
  },
  {
   "cell_type": "code",
   "execution_count": 1,
   "metadata": {
    "ExecuteTime": {
     "end_time": "2021-11-13T02:53:54.592978Z",
     "start_time": "2021-11-13T02:53:50.832460Z"
    },
    "id": "OuHhYbqoSKPt"
   },
   "outputs": [],
   "source": [
    "import pandas as pd\n",
    "import numpy as np\n",
    "from sklearn.model_selection import train_test_split, KFold, GridSearchCV\n",
    "import random\n",
    "from sklearn.impute import SimpleImputer\n",
    "from sklearn.compose import ColumnTransformer\n",
    "from sklearn.pipeline import Pipeline\n",
    "from sklearn.preprocessing import StandardScaler, OneHotEncoder, OrdinalEncoder\n",
    "from sklearn.feature_selection import SelectKBest\n",
    "from sklearn.decomposition import PCA\n",
    "from sklearn import tree\n",
    "from sklearn.base import BaseEstimator, TransformerMixin\n",
    "from sklearn.utils import resample\n",
    "from sklearn.metrics import plot_confusion_matrix, classification_report, accuracy_score, confusion_matrix, roc_auc_score, roc_curve\n",
    "import matplotlib.pyplot as plt\n",
    "import seaborn as sns\n",
    "from sklearn.linear_model import LinearRegression,RidgeCV, SGDRegressor\n",
    "from sklearn.tree import DecisionTreeRegressor\n",
    "from sklearn.neighbors import KNeighborsRegressor\n",
    "from sklearn.metrics import r2_score, mean_squared_error\n",
    "from sklearn.model_selection import cross_val_score, cross_validate\n",
    "\n",
    "%matplotlib inline\n",
    "sns.set_theme()\n",
    "\n",
    "import warnings\n",
    "warnings.filterwarnings(\"ignore\")"
   ]
  },
  {
   "cell_type": "markdown",
   "metadata": {
    "id": "xajFmdg5SKPv"
   },
   "source": [
    "## 1. Data Preparation"
   ]
  },
  {
   "cell_type": "markdown",
   "metadata": {
    "id": "D_QtVhxWSKPw"
   },
   "source": [
    "### 1.1 Loading the Data\n",
    "Load the train data set"
   ]
  },
  {
   "cell_type": "code",
   "execution_count": 2,
   "metadata": {
    "ExecuteTime": {
     "end_time": "2021-11-13T02:53:54.935305Z",
     "start_time": "2021-11-13T02:53:54.596053Z"
    },
    "colab": {
     "base_uri": "https://localhost:8080/",
     "height": 0
    },
    "id": "WaijJtwySKPx",
    "outputId": "b80d66c1-573b-4ef7-81cf-f6d61693c713"
   },
   "outputs": [
    {
     "data": {
      "text/html": [
       "<div>\n",
       "<style scoped>\n",
       "    .dataframe tbody tr th:only-of-type {\n",
       "        vertical-align: middle;\n",
       "    }\n",
       "\n",
       "    .dataframe tbody tr th {\n",
       "        vertical-align: top;\n",
       "    }\n",
       "\n",
       "    .dataframe thead th {\n",
       "        text-align: right;\n",
       "    }\n",
       "</style>\n",
       "<table border=\"1\" class=\"dataframe\">\n",
       "  <thead>\n",
       "    <tr style=\"text-align: right;\">\n",
       "      <th></th>\n",
       "      <th>listing_id</th>\n",
       "      <th>title</th>\n",
       "      <th>make</th>\n",
       "      <th>model</th>\n",
       "      <th>description</th>\n",
       "      <th>manufactured</th>\n",
       "      <th>original_reg_date</th>\n",
       "      <th>reg_date</th>\n",
       "      <th>type_of_vehicle</th>\n",
       "      <th>category</th>\n",
       "      <th>...</th>\n",
       "      <th>mileage</th>\n",
       "      <th>omv</th>\n",
       "      <th>arf</th>\n",
       "      <th>opc_scheme</th>\n",
       "      <th>lifespan</th>\n",
       "      <th>eco_category</th>\n",
       "      <th>features</th>\n",
       "      <th>accessories</th>\n",
       "      <th>indicative_price</th>\n",
       "      <th>price</th>\n",
       "    </tr>\n",
       "  </thead>\n",
       "  <tbody>\n",
       "    <tr>\n",
       "      <th>0</th>\n",
       "      <td>1030324</td>\n",
       "      <td>BMW 3 Series 320i Gran Turismo M-Sport</td>\n",
       "      <td>bmw</td>\n",
       "      <td>320i</td>\n",
       "      <td>1 owner! 320i gt m-sports model! big brake kit...</td>\n",
       "      <td>2013.0</td>\n",
       "      <td>NaN</td>\n",
       "      <td>09-dec-2013</td>\n",
       "      <td>luxury sedan</td>\n",
       "      <td>parf car, premium ad car, low mileage car</td>\n",
       "      <td>...</td>\n",
       "      <td>73000.0</td>\n",
       "      <td>45330.0</td>\n",
       "      <td>50462.0</td>\n",
       "      <td>NaN</td>\n",
       "      <td>NaN</td>\n",
       "      <td>uncategorized</td>\n",
       "      <td>5 doors gt, powerful and fuel efficient 2.0l t...</td>\n",
       "      <td>bmw i-drive, navigation, bluetooth/aux/usb inp...</td>\n",
       "      <td>NaN</td>\n",
       "      <td>71300.0</td>\n",
       "    </tr>\n",
       "    <tr>\n",
       "      <th>1</th>\n",
       "      <td>1021510</td>\n",
       "      <td>Toyota Hiace 3.0M</td>\n",
       "      <td>NaN</td>\n",
       "      <td>hiace</td>\n",
       "      <td>high loan available! low mileage unit. wear an...</td>\n",
       "      <td>2014.0</td>\n",
       "      <td>NaN</td>\n",
       "      <td>26-jan-2015</td>\n",
       "      <td>van</td>\n",
       "      <td>premium ad car</td>\n",
       "      <td>...</td>\n",
       "      <td>110112.0</td>\n",
       "      <td>27502.0</td>\n",
       "      <td>1376.0</td>\n",
       "      <td>NaN</td>\n",
       "      <td>25-jan-2035</td>\n",
       "      <td>uncategorized</td>\n",
       "      <td>low mileage unit. well maintained vehicle. vie...</td>\n",
       "      <td>factory radio setting. front recording camera....</td>\n",
       "      <td>NaN</td>\n",
       "      <td>43800.0</td>\n",
       "    </tr>\n",
       "    <tr>\n",
       "      <th>2</th>\n",
       "      <td>1026909</td>\n",
       "      <td>Mercedes-Benz CLA-Class CLA180</td>\n",
       "      <td>mercedes-benz</td>\n",
       "      <td>cla180</td>\n",
       "      <td>1 owner c&amp;c unit. full agent service with 1 mo...</td>\n",
       "      <td>2016.0</td>\n",
       "      <td>NaN</td>\n",
       "      <td>25-jul-2016</td>\n",
       "      <td>luxury sedan</td>\n",
       "      <td>parf car, premium ad car</td>\n",
       "      <td>...</td>\n",
       "      <td>80000.0</td>\n",
       "      <td>27886.0</td>\n",
       "      <td>26041.0</td>\n",
       "      <td>NaN</td>\n",
       "      <td>NaN</td>\n",
       "      <td>uncategorized</td>\n",
       "      <td>responsive and fuel efficient 1.6l inline 4 cy...</td>\n",
       "      <td>dual electric/memory seats. factory fitted aud...</td>\n",
       "      <td>NaN</td>\n",
       "      <td>95500.0</td>\n",
       "    </tr>\n",
       "    <tr>\n",
       "      <th>3</th>\n",
       "      <td>1019371</td>\n",
       "      <td>Mercedes-Benz E-Class E180 Avantgarde</td>\n",
       "      <td>mercedes-benz</td>\n",
       "      <td>e180</td>\n",
       "      <td>fully agent maintained, 3 years warranty 10 ye...</td>\n",
       "      <td>2019.0</td>\n",
       "      <td>NaN</td>\n",
       "      <td>17-nov-2020</td>\n",
       "      <td>luxury sedan</td>\n",
       "      <td>parf car, almost new car, consignment car</td>\n",
       "      <td>...</td>\n",
       "      <td>9800.0</td>\n",
       "      <td>46412.0</td>\n",
       "      <td>56977.0</td>\n",
       "      <td>NaN</td>\n",
       "      <td>NaN</td>\n",
       "      <td>uncategorized</td>\n",
       "      <td>1.5l inline-4 twin scroll turbocharged engine,...</td>\n",
       "      <td>64 colour ambient lighting. active parking ass...</td>\n",
       "      <td>NaN</td>\n",
       "      <td>197900.0</td>\n",
       "    </tr>\n",
       "    <tr>\n",
       "      <th>4</th>\n",
       "      <td>1031014</td>\n",
       "      <td>Honda Civic 1.6A VTi</td>\n",
       "      <td>NaN</td>\n",
       "      <td>civic</td>\n",
       "      <td>kah motor unit! 1 owner, lowest 1.98% for full...</td>\n",
       "      <td>2019.0</td>\n",
       "      <td>NaN</td>\n",
       "      <td>20-sep-2019</td>\n",
       "      <td>mid-sized sedan</td>\n",
       "      <td>parf car</td>\n",
       "      <td>...</td>\n",
       "      <td>40000.0</td>\n",
       "      <td>20072.0</td>\n",
       "      <td>20101.0</td>\n",
       "      <td>NaN</td>\n",
       "      <td>NaN</td>\n",
       "      <td>uncategorized</td>\n",
       "      <td>1.6l i-vtec engine, 123 bhp, earth dreams cvt ...</td>\n",
       "      <td>s/rims, premium leather seats, factory touch s...</td>\n",
       "      <td>NaN</td>\n",
       "      <td>103200.0</td>\n",
       "    </tr>\n",
       "  </tbody>\n",
       "</table>\n",
       "<p>5 rows × 30 columns</p>\n",
       "</div>"
      ],
      "text/plain": [
       "   listing_id                                   title           make   model  \\\n",
       "0     1030324  BMW 3 Series 320i Gran Turismo M-Sport            bmw    320i   \n",
       "1     1021510                       Toyota Hiace 3.0M            NaN   hiace   \n",
       "2     1026909          Mercedes-Benz CLA-Class CLA180  mercedes-benz  cla180   \n",
       "3     1019371   Mercedes-Benz E-Class E180 Avantgarde  mercedes-benz    e180   \n",
       "4     1031014                    Honda Civic 1.6A VTi            NaN   civic   \n",
       "\n",
       "                                         description  manufactured  \\\n",
       "0  1 owner! 320i gt m-sports model! big brake kit...        2013.0   \n",
       "1  high loan available! low mileage unit. wear an...        2014.0   \n",
       "2  1 owner c&c unit. full agent service with 1 mo...        2016.0   \n",
       "3  fully agent maintained, 3 years warranty 10 ye...        2019.0   \n",
       "4  kah motor unit! 1 owner, lowest 1.98% for full...        2019.0   \n",
       "\n",
       "  original_reg_date     reg_date  type_of_vehicle  \\\n",
       "0               NaN  09-dec-2013     luxury sedan   \n",
       "1               NaN  26-jan-2015              van   \n",
       "2               NaN  25-jul-2016     luxury sedan   \n",
       "3               NaN  17-nov-2020     luxury sedan   \n",
       "4               NaN  20-sep-2019  mid-sized sedan   \n",
       "\n",
       "                                    category  ...   mileage      omv      arf  \\\n",
       "0  parf car, premium ad car, low mileage car  ...   73000.0  45330.0  50462.0   \n",
       "1                             premium ad car  ...  110112.0  27502.0   1376.0   \n",
       "2                   parf car, premium ad car  ...   80000.0  27886.0  26041.0   \n",
       "3  parf car, almost new car, consignment car  ...    9800.0  46412.0  56977.0   \n",
       "4                                   parf car  ...   40000.0  20072.0  20101.0   \n",
       "\n",
       "  opc_scheme     lifespan   eco_category  \\\n",
       "0        NaN          NaN  uncategorized   \n",
       "1        NaN  25-jan-2035  uncategorized   \n",
       "2        NaN          NaN  uncategorized   \n",
       "3        NaN          NaN  uncategorized   \n",
       "4        NaN          NaN  uncategorized   \n",
       "\n",
       "                                            features  \\\n",
       "0  5 doors gt, powerful and fuel efficient 2.0l t...   \n",
       "1  low mileage unit. well maintained vehicle. vie...   \n",
       "2  responsive and fuel efficient 1.6l inline 4 cy...   \n",
       "3  1.5l inline-4 twin scroll turbocharged engine,...   \n",
       "4  1.6l i-vtec engine, 123 bhp, earth dreams cvt ...   \n",
       "\n",
       "                                         accessories  indicative_price  \\\n",
       "0  bmw i-drive, navigation, bluetooth/aux/usb inp...               NaN   \n",
       "1  factory radio setting. front recording camera....               NaN   \n",
       "2  dual electric/memory seats. factory fitted aud...               NaN   \n",
       "3  64 colour ambient lighting. active parking ass...               NaN   \n",
       "4  s/rims, premium leather seats, factory touch s...               NaN   \n",
       "\n",
       "      price  \n",
       "0   71300.0  \n",
       "1   43800.0  \n",
       "2   95500.0  \n",
       "3  197900.0  \n",
       "4  103200.0  \n",
       "\n",
       "[5 rows x 30 columns]"
      ]
     },
     "execution_count": 2,
     "metadata": {},
     "output_type": "execute_result"
    }
   ],
   "source": [
    "df = pd.read_csv('data/train.csv')\n",
    "df.head()"
   ]
  },
  {
   "cell_type": "code",
   "execution_count": 3,
   "metadata": {
    "ExecuteTime": {
     "end_time": "2021-11-13T02:53:54.950516Z",
     "start_time": "2021-11-13T02:53:54.938569Z"
    },
    "colab": {
     "base_uri": "https://localhost:8080/"
    },
    "id": "b5dHgN5fSKPy",
    "outputId": "549ecb55-0125-4904-a6d7-a33405b86b67"
   },
   "outputs": [
    {
     "name": "stdout",
     "output_type": "stream",
     "text": [
      "There are 16784 data points, each with 30 attributes.\n"
     ]
    }
   ],
   "source": [
    "num_points, num_attributes = df.shape\n",
    "\n",
    "print(\"There are {} data points, each with {} attributes.\". format(num_points, num_attributes))"
   ]
  },
  {
   "cell_type": "code",
   "execution_count": 4,
   "metadata": {
    "ExecuteTime": {
     "end_time": "2021-11-13T02:53:54.980536Z",
     "start_time": "2021-11-13T02:53:54.954939Z"
    },
    "colab": {
     "base_uri": "https://localhost:8080/"
    },
    "id": "nr_GZ5PSSKPz",
    "outputId": "eff89aa1-2322-4bdc-f374-d7e477384f6e"
   },
   "outputs": [
    {
     "data": {
      "text/plain": [
       "listing_id             int64\n",
       "title                 object\n",
       "make                  object\n",
       "model                 object\n",
       "description           object\n",
       "manufactured         float64\n",
       "original_reg_date     object\n",
       "reg_date              object\n",
       "type_of_vehicle       object\n",
       "category              object\n",
       "transmission          object\n",
       "curb_weight          float64\n",
       "power                float64\n",
       "fuel_type             object\n",
       "engine_cap           float64\n",
       "no_of_owners         float64\n",
       "depreciation         float64\n",
       "coe                  float64\n",
       "road_tax             float64\n",
       "dereg_value          float64\n",
       "mileage              float64\n",
       "omv                  float64\n",
       "arf                  float64\n",
       "opc_scheme            object\n",
       "lifespan              object\n",
       "eco_category          object\n",
       "features              object\n",
       "accessories           object\n",
       "indicative_price     float64\n",
       "price                float64\n",
       "dtype: object"
      ]
     },
     "execution_count": 4,
     "metadata": {},
     "output_type": "execute_result"
    }
   ],
   "source": [
    "df.dtypes "
   ]
  },
  {
   "cell_type": "code",
   "execution_count": 5,
   "metadata": {
    "ExecuteTime": {
     "end_time": "2021-11-13T02:53:54.995614Z",
     "start_time": "2021-11-13T02:53:54.983531Z"
    },
    "id": "Mr-4KWPKSKP0"
   },
   "outputs": [],
   "source": [
    "col_cat = df.dtypes[df.dtypes=='object'].index\n",
    "col_num = df.dtypes[(df.dtypes=='int64') | (df.dtypes=='float64')].index"
   ]
  },
  {
   "cell_type": "code",
   "execution_count": 6,
   "metadata": {
    "ExecuteTime": {
     "end_time": "2021-11-13T02:53:55.026244Z",
     "start_time": "2021-11-13T02:53:55.001137Z"
    },
    "colab": {
     "base_uri": "https://localhost:8080/"
    },
    "id": "3mQpx3t8SKP1",
    "outputId": "42af16aa-f321-4b46-ec33-4e02a9be566e"
   },
   "outputs": [
    {
     "data": {
      "text/plain": [
       "Index(['title', 'make', 'model', 'description', 'original_reg_date',\n",
       "       'reg_date', 'type_of_vehicle', 'category', 'transmission', 'fuel_type',\n",
       "       'opc_scheme', 'lifespan', 'eco_category', 'features', 'accessories'],\n",
       "      dtype='object')"
      ]
     },
     "execution_count": 6,
     "metadata": {},
     "output_type": "execute_result"
    }
   ],
   "source": [
    "# to display all the categorical columns\n",
    "col_cat "
   ]
  },
  {
   "cell_type": "code",
   "execution_count": 7,
   "metadata": {
    "ExecuteTime": {
     "end_time": "2021-11-13T02:53:55.041497Z",
     "start_time": "2021-11-13T02:53:55.030752Z"
    },
    "colab": {
     "base_uri": "https://localhost:8080/"
    },
    "id": "OZFE9tOaSKP2",
    "outputId": "e662424c-a6ab-40e1-8e13-fbe4cea00c10"
   },
   "outputs": [
    {
     "data": {
      "text/plain": [
       "Index(['listing_id', 'manufactured', 'curb_weight', 'power', 'engine_cap',\n",
       "       'no_of_owners', 'depreciation', 'coe', 'road_tax', 'dereg_value',\n",
       "       'mileage', 'omv', 'arf', 'indicative_price', 'price'],\n",
       "      dtype='object')"
      ]
     },
     "execution_count": 7,
     "metadata": {},
     "output_type": "execute_result"
    }
   ],
   "source": [
    "# to display all the numerical columns\n",
    "col_num "
   ]
  },
  {
   "cell_type": "code",
   "execution_count": 8,
   "metadata": {
    "ExecuteTime": {
     "end_time": "2021-11-13T02:53:55.199637Z",
     "start_time": "2021-11-13T02:53:55.044628Z"
    },
    "colab": {
     "base_uri": "https://localhost:8080/",
     "height": 0
    },
    "id": "NtPntcL0SKP3",
    "outputId": "4f393629-6737-4a3a-a3fa-5be070ee6c26"
   },
   "outputs": [
    {
     "data": {
      "text/html": [
       "<div>\n",
       "<style scoped>\n",
       "    .dataframe tbody tr th:only-of-type {\n",
       "        vertical-align: middle;\n",
       "    }\n",
       "\n",
       "    .dataframe tbody tr th {\n",
       "        vertical-align: top;\n",
       "    }\n",
       "\n",
       "    .dataframe thead th {\n",
       "        text-align: right;\n",
       "    }\n",
       "</style>\n",
       "<table border=\"1\" class=\"dataframe\">\n",
       "  <thead>\n",
       "    <tr style=\"text-align: right;\">\n",
       "      <th></th>\n",
       "      <th>listing_id</th>\n",
       "      <th>manufactured</th>\n",
       "      <th>curb_weight</th>\n",
       "      <th>power</th>\n",
       "      <th>engine_cap</th>\n",
       "      <th>no_of_owners</th>\n",
       "      <th>depreciation</th>\n",
       "      <th>coe</th>\n",
       "      <th>road_tax</th>\n",
       "      <th>dereg_value</th>\n",
       "      <th>mileage</th>\n",
       "      <th>omv</th>\n",
       "      <th>arf</th>\n",
       "      <th>indicative_price</th>\n",
       "      <th>price</th>\n",
       "    </tr>\n",
       "  </thead>\n",
       "  <tbody>\n",
       "    <tr>\n",
       "      <th>count</th>\n",
       "      <td>1.678400e+04</td>\n",
       "      <td>16590.000000</td>\n",
       "      <td>16205.000000</td>\n",
       "      <td>14447.000000</td>\n",
       "      <td>16731.000000</td>\n",
       "      <td>16608.000000</td>\n",
       "      <td>16351.000000</td>\n",
       "      <td>15893.000000</td>\n",
       "      <td>14630.000000</td>\n",
       "      <td>15595.000000</td>\n",
       "      <td>13060.000000</td>\n",
       "      <td>1.674300e+04</td>\n",
       "      <td>16500.000000</td>\n",
       "      <td>0.0</td>\n",
       "      <td>1.678400e+04</td>\n",
       "    </tr>\n",
       "    <tr>\n",
       "      <th>mean</th>\n",
       "      <td>1.009717e+06</td>\n",
       "      <td>2014.212417</td>\n",
       "      <td>1554.616230</td>\n",
       "      <td>133.950647</td>\n",
       "      <td>2086.423944</td>\n",
       "      <td>2.033297</td>\n",
       "      <td>14489.055104</td>\n",
       "      <td>41336.704524</td>\n",
       "      <td>1358.951880</td>\n",
       "      <td>44208.937865</td>\n",
       "      <td>72539.375651</td>\n",
       "      <td>3.896792e+04</td>\n",
       "      <td>38636.758242</td>\n",
       "      <td>NaN</td>\n",
       "      <td>1.129102e+05</td>\n",
       "    </tr>\n",
       "    <tr>\n",
       "      <th>std</th>\n",
       "      <td>2.644722e+04</td>\n",
       "      <td>8.771572</td>\n",
       "      <td>820.442216</td>\n",
       "      <td>74.294299</td>\n",
       "      <td>1126.062034</td>\n",
       "      <td>1.362351</td>\n",
       "      <td>19367.989982</td>\n",
       "      <td>16553.755676</td>\n",
       "      <td>1187.558721</td>\n",
       "      <td>42816.473242</td>\n",
       "      <td>50985.924208</td>\n",
       "      <td>4.445251e+04</td>\n",
       "      <td>59749.028200</td>\n",
       "      <td>NaN</td>\n",
       "      <td>1.342478e+05</td>\n",
       "    </tr>\n",
       "    <tr>\n",
       "      <th>min</th>\n",
       "      <td>3.652410e+05</td>\n",
       "      <td>1933.000000</td>\n",
       "      <td>2.000000</td>\n",
       "      <td>40.500000</td>\n",
       "      <td>0.000000</td>\n",
       "      <td>1.000000</td>\n",
       "      <td>2680.000000</td>\n",
       "      <td>10.000000</td>\n",
       "      <td>50.000000</td>\n",
       "      <td>97.000000</td>\n",
       "      <td>1.000000</td>\n",
       "      <td>8.880000e+02</td>\n",
       "      <td>63.000000</td>\n",
       "      <td>NaN</td>\n",
       "      <td>2.100000e+03</td>\n",
       "    </tr>\n",
       "    <tr>\n",
       "      <th>25%</th>\n",
       "      <td>1.002488e+06</td>\n",
       "      <td>2011.000000</td>\n",
       "      <td>1280.000000</td>\n",
       "      <td>90.000000</td>\n",
       "      <td>1497.000000</td>\n",
       "      <td>1.000000</td>\n",
       "      <td>8630.000000</td>\n",
       "      <td>31335.000000</td>\n",
       "      <td>684.000000</td>\n",
       "      <td>24985.000000</td>\n",
       "      <td>32661.500000</td>\n",
       "      <td>1.919300e+04</td>\n",
       "      <td>12614.250000</td>\n",
       "      <td>NaN</td>\n",
       "      <td>5.700000e+04</td>\n",
       "    </tr>\n",
       "    <tr>\n",
       "      <th>50%</th>\n",
       "      <td>1.017508e+06</td>\n",
       "      <td>2016.000000</td>\n",
       "      <td>1440.000000</td>\n",
       "      <td>110.000000</td>\n",
       "      <td>1797.000000</td>\n",
       "      <td>2.000000</td>\n",
       "      <td>10610.000000</td>\n",
       "      <td>40512.000000</td>\n",
       "      <td>976.000000</td>\n",
       "      <td>35556.000000</td>\n",
       "      <td>65801.500000</td>\n",
       "      <td>2.708400e+04</td>\n",
       "      <td>21698.000000</td>\n",
       "      <td>NaN</td>\n",
       "      <td>8.010000e+04</td>\n",
       "    </tr>\n",
       "    <tr>\n",
       "      <th>75%</th>\n",
       "      <td>1.025184e+06</td>\n",
       "      <td>2018.000000</td>\n",
       "      <td>1680.000000</td>\n",
       "      <td>147.000000</td>\n",
       "      <td>2356.000000</td>\n",
       "      <td>3.000000</td>\n",
       "      <td>14870.000000</td>\n",
       "      <td>51600.000000</td>\n",
       "      <td>1369.000000</td>\n",
       "      <td>50403.500000</td>\n",
       "      <td>104000.000000</td>\n",
       "      <td>4.068750e+04</td>\n",
       "      <td>42642.750000</td>\n",
       "      <td>NaN</td>\n",
       "      <td>1.209250e+05</td>\n",
       "    </tr>\n",
       "    <tr>\n",
       "      <th>max</th>\n",
       "      <td>1.031324e+06</td>\n",
       "      <td>2925.000000</td>\n",
       "      <td>20980.000000</td>\n",
       "      <td>552.000000</td>\n",
       "      <td>15681.000000</td>\n",
       "      <td>6.000000</td>\n",
       "      <td>865610.000000</td>\n",
       "      <td>97889.000000</td>\n",
       "      <td>12375.000000</td>\n",
       "      <td>653862.000000</td>\n",
       "      <td>740459.000000</td>\n",
       "      <td>1.150000e+06</td>\n",
       "      <td>858230.000000</td>\n",
       "      <td>NaN</td>\n",
       "      <td>2.920500e+06</td>\n",
       "    </tr>\n",
       "  </tbody>\n",
       "</table>\n",
       "</div>"
      ],
      "text/plain": [
       "         listing_id  manufactured   curb_weight         power    engine_cap  \\\n",
       "count  1.678400e+04  16590.000000  16205.000000  14447.000000  16731.000000   \n",
       "mean   1.009717e+06   2014.212417   1554.616230    133.950647   2086.423944   \n",
       "std    2.644722e+04      8.771572    820.442216     74.294299   1126.062034   \n",
       "min    3.652410e+05   1933.000000      2.000000     40.500000      0.000000   \n",
       "25%    1.002488e+06   2011.000000   1280.000000     90.000000   1497.000000   \n",
       "50%    1.017508e+06   2016.000000   1440.000000    110.000000   1797.000000   \n",
       "75%    1.025184e+06   2018.000000   1680.000000    147.000000   2356.000000   \n",
       "max    1.031324e+06   2925.000000  20980.000000    552.000000  15681.000000   \n",
       "\n",
       "       no_of_owners   depreciation           coe      road_tax    dereg_value  \\\n",
       "count  16608.000000   16351.000000  15893.000000  14630.000000   15595.000000   \n",
       "mean       2.033297   14489.055104  41336.704524   1358.951880   44208.937865   \n",
       "std        1.362351   19367.989982  16553.755676   1187.558721   42816.473242   \n",
       "min        1.000000    2680.000000     10.000000     50.000000      97.000000   \n",
       "25%        1.000000    8630.000000  31335.000000    684.000000   24985.000000   \n",
       "50%        2.000000   10610.000000  40512.000000    976.000000   35556.000000   \n",
       "75%        3.000000   14870.000000  51600.000000   1369.000000   50403.500000   \n",
       "max        6.000000  865610.000000  97889.000000  12375.000000  653862.000000   \n",
       "\n",
       "             mileage           omv            arf  indicative_price  \\\n",
       "count   13060.000000  1.674300e+04   16500.000000               0.0   \n",
       "mean    72539.375651  3.896792e+04   38636.758242               NaN   \n",
       "std     50985.924208  4.445251e+04   59749.028200               NaN   \n",
       "min         1.000000  8.880000e+02      63.000000               NaN   \n",
       "25%     32661.500000  1.919300e+04   12614.250000               NaN   \n",
       "50%     65801.500000  2.708400e+04   21698.000000               NaN   \n",
       "75%    104000.000000  4.068750e+04   42642.750000               NaN   \n",
       "max    740459.000000  1.150000e+06  858230.000000               NaN   \n",
       "\n",
       "              price  \n",
       "count  1.678400e+04  \n",
       "mean   1.129102e+05  \n",
       "std    1.342478e+05  \n",
       "min    2.100000e+03  \n",
       "25%    5.700000e+04  \n",
       "50%    8.010000e+04  \n",
       "75%    1.209250e+05  \n",
       "max    2.920500e+06  "
      ]
     },
     "execution_count": 8,
     "metadata": {},
     "output_type": "execute_result"
    }
   ],
   "source": [
    "# to summarize the numerical data\n",
    "df.describe()"
   ]
  },
  {
   "cell_type": "markdown",
   "metadata": {
    "id": "ZljuTCpTSKP4"
   },
   "source": [
    "## 2. Exploratory Data Analysis"
   ]
  },
  {
   "cell_type": "markdown",
   "metadata": {
    "id": "olW58yN8SKP4"
   },
   "source": [
    "### 2.1 Missing values\n",
    "\n",
    "First to find all rows that have at least 1 NA value in any column.\n",
    "- Finding: all the rows contains at least 1 empty entry"
   ]
  },
  {
   "cell_type": "code",
   "execution_count": 9,
   "metadata": {
    "ExecuteTime": {
     "end_time": "2021-11-13T02:53:55.245905Z",
     "start_time": "2021-11-13T02:53:55.202354Z"
    },
    "colab": {
     "base_uri": "https://localhost:8080/"
    },
    "id": "3WFStQ8FSKP5",
    "outputId": "715b7cc2-d83c-4069-b636-9a9782f7ecc4"
   },
   "outputs": [
    {
     "name": "stdout",
     "output_type": "stream",
     "text": [
      "There are 16784 data points that have at least 1 missing value (NA)\n"
     ]
    }
   ],
   "source": [
    "row_has_na = df.isna().any(axis=1)\n",
    "\n",
    "df_na = df[row_has_na]\n",
    "\n",
    "print(\"There are {} data points that have at least 1 missing value (NA)\".format(df_na.shape[0]))"
   ]
  },
  {
   "cell_type": "markdown",
   "metadata": {
    "id": "lTp3KRpHSKP5"
   },
   "source": [
    "### 2.2 Check for Collinearity\n",
    "\n",
    "- Drop the `indicative_price` column as it has all NA rows\n",
    "- Filter the numerical features"
   ]
  },
  {
   "cell_type": "code",
   "execution_count": 10,
   "metadata": {
    "ExecuteTime": {
     "end_time": "2021-11-13T02:53:55.276876Z",
     "start_time": "2021-11-13T02:53:55.253414Z"
    },
    "colab": {
     "base_uri": "https://localhost:8080/"
    },
    "id": "e4uhGBV7SKP5",
    "outputId": "9d69dcd8-6718-4839-9c94-e0732cdd593b"
   },
   "outputs": [
    {
     "data": {
      "text/plain": [
       "14"
      ]
     },
     "execution_count": 10,
     "metadata": {},
     "output_type": "execute_result"
    }
   ],
   "source": [
    "col_num =df.dtypes[(df.dtypes=='int64') | (df.dtypes=='float64')].index \n",
    "col_num = list(col_num)\n",
    "col_num.remove('indicative_price')\n",
    "len(col_num)"
   ]
  },
  {
   "cell_type": "markdown",
   "metadata": {},
   "source": [
    "Display the numeric features"
   ]
  },
  {
   "cell_type": "code",
   "execution_count": 11,
   "metadata": {
    "ExecuteTime": {
     "end_time": "2021-11-13T02:53:55.292299Z",
     "start_time": "2021-11-13T02:53:55.279742Z"
    }
   },
   "outputs": [
    {
     "data": {
      "text/plain": [
       "['listing_id',\n",
       " 'manufactured',\n",
       " 'curb_weight',\n",
       " 'power',\n",
       " 'engine_cap',\n",
       " 'no_of_owners',\n",
       " 'depreciation',\n",
       " 'coe',\n",
       " 'road_tax',\n",
       " 'dereg_value',\n",
       " 'mileage',\n",
       " 'omv',\n",
       " 'arf',\n",
       " 'price']"
      ]
     },
     "execution_count": 11,
     "metadata": {},
     "output_type": "execute_result"
    }
   ],
   "source": [
    "col_num"
   ]
  },
  {
   "cell_type": "markdown",
   "metadata": {
    "id": "VQQXTNWYSKP6"
   },
   "source": [
    "#### 2.2.1 Plot the distribution of all the numeric features\n"
   ]
  },
  {
   "cell_type": "code",
   "execution_count": 12,
   "metadata": {
    "ExecuteTime": {
     "end_time": "2021-11-13T02:53:59.351825Z",
     "start_time": "2021-11-13T02:53:55.296281Z"
    }
   },
   "outputs": [
    {
     "data": {
      "image/png": "[encoded data removed]",
      "text/plain": [
       "<Figure size 1080x1080 with 15 Axes>"
      ]
     },
     "metadata": {},
     "output_type": "display_data"
    }
   ],
   "source": [
    "fig, axs = plt.subplots(5, 3, figsize=(15,15))\n",
    "rowPosn = 0\n",
    "colPosn = 0\n",
    "\n",
    "def addPosn():\n",
    "    global colPosn\n",
    "    colPosn+=1\n",
    "    if colPosn > 2:\n",
    "        colPosn = 0\n",
    "        global rowPosn\n",
    "        rowPosn+=1\n",
    "    \n",
    "for col in col_num:\n",
    "    axs[rowPosn,colPosn].hist(df[col])\n",
    "    axs[rowPosn,colPosn].set_xlabel(col, fontsize=16)\n",
    "    axs[rowPosn,colPosn].set_ylabel('count', fontsize=16)\n",
    "    addPosn()\n",
    "\n",
    "fig.suptitle(\"Distribution of Numeric feature\", y=1, fontsize='xx-large')\n",
    "fig.tight_layout()"
   ]
  },
  {
   "cell_type": "markdown",
   "metadata": {
    "id": "4vAF9c0QSKP7"
   },
   "source": [
    "#### 2.2.2 To plot the heatmap for correlation"
   ]
  },
  {
   "cell_type": "code",
   "execution_count": 13,
   "metadata": {
    "ExecuteTime": {
     "end_time": "2021-11-13T02:54:00.930204Z",
     "start_time": "2021-11-13T02:53:59.354673Z"
    },
    "colab": {
     "base_uri": "https://localhost:8080/",
     "height": 0
    },
    "id": "3EDOtK-sSKP8",
    "outputId": "dc297346-4a08-476b-fce0-baaa0cdcacba"
   },
   "outputs": [
    {
     "data": {
      "text/plain": [
       "<AxesSubplot:>"
      ]
     },
     "execution_count": 13,
     "metadata": {},
     "output_type": "execute_result"
    },
    {
     "data": {
      "image/png": "[encoded data removed]",
      "text/plain": [
       "<Figure size 720x720 with 2 Axes>"
      ]
     },
     "metadata": {},
     "output_type": "display_data"
    }
   ],
   "source": [
    "df_col_num = df[col_num]\n",
    "f, axs = plt.subplots(1, 1, figsize=(10, 10))\n",
    "sns.heatmap(df_col_num.corr(), cmap='seismic', vmin=-1, vmax=1, annot=True)\n"
   ]
  },
  {
   "cell_type": "markdown",
   "metadata": {},
   "source": [
    "#### 2.2.3 To show all the feature pairs with collinearity >0.8\n",
    "Create functions to rank top collinearities, ref: https://stackoverflow.com/questions/17778394/list-highest-correlation-pairs-from-a-large-correlation-matrix-in-pandas.\n",
    "\n",
    "We can see that: collinearity: R2>0.9\n",
    "- `omv`~`arf`: 0.938438\n",
    "- `road_tax`~`engine_cap`: 0.966132\n"
   ]
  },
  {
   "cell_type": "code",
   "execution_count": 14,
   "metadata": {
    "ExecuteTime": {
     "end_time": "2021-11-13T02:54:00.945848Z",
     "start_time": "2021-11-13T02:54:00.933663Z"
    }
   },
   "outputs": [],
   "source": [
    "def get_redundant_pairs(df):\n",
    "    '''Get diagonal and lower triangular pairs of correlation matrix'''\n",
    "    pairs_to_drop = set()\n",
    "    cols = df.columns\n",
    "    for i in range(0, df.shape[1]):\n",
    "        for j in range(0, i+1):\n",
    "            pairs_to_drop.add((cols[i], cols[j]))\n",
    "    return pairs_to_drop\n",
    "\n",
    "def get_top_abs_correlations(df):\n",
    "    au_corr = df.corr().abs().unstack()\n",
    "    labels_to_drop = get_redundant_pairs(df)\n",
    "    au_corr = au_corr.drop(labels=labels_to_drop).sort_values(ascending=False)\n",
    "    return au_corr[(au_corr>0.8)]\n"
   ]
  },
  {
   "cell_type": "code",
   "execution_count": 15,
   "metadata": {
    "ExecuteTime": {
     "end_time": "2021-11-13T02:54:01.038884Z",
     "start_time": "2021-11-13T02:54:00.951710Z"
    }
   },
   "outputs": [
    {
     "name": "stdout",
     "output_type": "stream",
     "text": [
      "Top Absolute Correlations\n",
      "engine_cap   road_tax      0.966132\n",
      "omv          arf           0.938438\n",
      "dereg_value  price         0.894838\n",
      "power        engine_cap    0.884905\n",
      "arf          price         0.884832\n",
      "power        omv           0.849986\n",
      "dereg_value  arf           0.849308\n",
      "power        arf           0.843883\n",
      "             road_tax      0.842316\n",
      "road_tax     omv           0.816899\n",
      "omv          price         0.804580\n",
      "dtype: float64\n"
     ]
    }
   ],
   "source": [
    "print(\"Top Absolute Correlations\")\n",
    "print(get_top_abs_correlations(df_col_num ))"
   ]
  },
  {
   "cell_type": "markdown",
   "metadata": {
    "id": "qo-5MzzUSKP9"
   },
   "source": [
    "## 3. Regression Model"
   ]
  },
  {
   "cell_type": "markdown",
   "metadata": {
    "id": "30h0BnlMSKP9"
   },
   "source": [
    "### 3.1 Split train data and validation data\n",
    "\n",
    "- on 80% train, 20% validation basis"
   ]
  },
  {
   "cell_type": "code",
   "execution_count": 16,
   "metadata": {
    "ExecuteTime": {
     "end_time": "2021-11-13T02:54:01.363326Z",
     "start_time": "2021-11-13T02:54:01.043907Z"
    },
    "id": "JM7JOvxiSKP9"
   },
   "outputs": [],
   "source": [
    "rng = 0\n",
    "df = pd.read_csv('data/train.csv',index_col=0)\n",
    "X = df.drop('price', axis=1)\n",
    "Y = df.price\n",
    "\n",
    "X_train, X_htest, Y_train, Y_htest = train_test_split(X, Y, test_size=0.2, random_state=rng)"
   ]
  },
  {
   "cell_type": "code",
   "execution_count": 17,
   "metadata": {
    "ExecuteTime": {
     "end_time": "2021-11-13T02:54:01.378297Z",
     "start_time": "2021-11-13T02:54:01.366388Z"
    },
    "colab": {
     "base_uri": "https://localhost:8080/"
    },
    "id": "H_X27mwGSKP-",
    "outputId": "ebfef43e-fcff-4e8d-e29d-f53c989dbf9c"
   },
   "outputs": [
    {
     "data": {
      "text/plain": [
       "Index(['title', 'make', 'model', 'description', 'manufactured',\n",
       "       'original_reg_date', 'reg_date', 'type_of_vehicle', 'category',\n",
       "       'transmission', 'curb_weight', 'power', 'fuel_type', 'engine_cap',\n",
       "       'no_of_owners', 'depreciation', 'coe', 'road_tax', 'dereg_value',\n",
       "       'mileage', 'omv', 'arf', 'opc_scheme', 'lifespan', 'eco_category',\n",
       "       'features', 'accessories', 'indicative_price'],\n",
       "      dtype='object')"
      ]
     },
     "execution_count": 17,
     "metadata": {},
     "output_type": "execute_result"
    }
   ],
   "source": [
    "X_train.columns"
   ]
  },
  {
   "cell_type": "markdown",
   "metadata": {},
   "source": [
    "- To display the numeric columns"
   ]
  },
  {
   "cell_type": "code",
   "execution_count": 18,
   "metadata": {
    "ExecuteTime": {
     "end_time": "2021-11-13T02:54:01.393511Z",
     "start_time": "2021-11-13T02:54:01.381024Z"
    },
    "colab": {
     "base_uri": "https://localhost:8080/"
    },
    "id": "ffOGVRl_SKP-",
    "outputId": "a83a525e-b2d4-4bec-caa5-aa89eeb5381e"
   },
   "outputs": [
    {
     "data": {
      "text/plain": [
       "Index(['manufactured', 'curb_weight', 'power', 'engine_cap', 'no_of_owners',\n",
       "       'depreciation', 'coe', 'road_tax', 'dereg_value', 'mileage', 'omv',\n",
       "       'arf', 'indicative_price'],\n",
       "      dtype='object')"
      ]
     },
     "execution_count": 18,
     "metadata": {},
     "output_type": "execute_result"
    }
   ],
   "source": [
    "#numeric columns\n",
    "X_train.columns[X_train.dtypes=='float64']"
   ]
  },
  {
   "cell_type": "markdown",
   "metadata": {},
   "source": [
    "- To display the categorical columns"
   ]
  },
  {
   "cell_type": "code",
   "execution_count": 19,
   "metadata": {
    "ExecuteTime": {
     "end_time": "2021-11-13T02:54:01.424982Z",
     "start_time": "2021-11-13T02:54:01.396297Z"
    },
    "colab": {
     "base_uri": "https://localhost:8080/"
    },
    "id": "2_MCijHVSKP-",
    "outputId": "4eb3e343-de26-45d1-aa11-30b0d36b682a"
   },
   "outputs": [
    {
     "data": {
      "text/plain": [
       "Index(['title', 'make', 'model', 'description', 'original_reg_date',\n",
       "       'reg_date', 'type_of_vehicle', 'category', 'transmission', 'fuel_type',\n",
       "       'opc_scheme', 'lifespan', 'eco_category', 'features', 'accessories'],\n",
       "      dtype='object')"
      ]
     },
     "execution_count": 19,
     "metadata": {},
     "output_type": "execute_result"
    }
   ],
   "source": [
    "#cat columns\n",
    "X_train.columns[X_train.dtypes=='object']"
   ]
  },
  {
   "cell_type": "code",
   "execution_count": 20,
   "metadata": {
    "ExecuteTime": {
     "end_time": "2021-11-13T02:54:01.565775Z",
     "start_time": "2021-11-13T02:54:01.428071Z"
    },
    "colab": {
     "base_uri": "https://localhost:8080/",
     "height": 0
    },
    "id": "3-z6BNHBSKP_",
    "outputId": "a0b93878-0c69-4bb7-87c6-0ccca75c0863"
   },
   "outputs": [
    {
     "data": {
      "text/html": [
       "<div>\n",
       "<style scoped>\n",
       "    .dataframe tbody tr th:only-of-type {\n",
       "        vertical-align: middle;\n",
       "    }\n",
       "\n",
       "    .dataframe tbody tr th {\n",
       "        vertical-align: top;\n",
       "    }\n",
       "\n",
       "    .dataframe thead th {\n",
       "        text-align: right;\n",
       "    }\n",
       "</style>\n",
       "<table border=\"1\" class=\"dataframe\">\n",
       "  <thead>\n",
       "    <tr style=\"text-align: right;\">\n",
       "      <th></th>\n",
       "      <th>manufactured</th>\n",
       "      <th>curb_weight</th>\n",
       "      <th>power</th>\n",
       "      <th>engine_cap</th>\n",
       "      <th>no_of_owners</th>\n",
       "      <th>depreciation</th>\n",
       "      <th>coe</th>\n",
       "      <th>road_tax</th>\n",
       "      <th>dereg_value</th>\n",
       "      <th>mileage</th>\n",
       "      <th>omv</th>\n",
       "      <th>arf</th>\n",
       "      <th>indicative_price</th>\n",
       "    </tr>\n",
       "  </thead>\n",
       "  <tbody>\n",
       "    <tr>\n",
       "      <th>count</th>\n",
       "      <td>13279.000000</td>\n",
       "      <td>12959.000000</td>\n",
       "      <td>11558.000000</td>\n",
       "      <td>13383.000000</td>\n",
       "      <td>13297.000000</td>\n",
       "      <td>13087.000000</td>\n",
       "      <td>12708.000000</td>\n",
       "      <td>11702.000000</td>\n",
       "      <td>12476.000000</td>\n",
       "      <td>10418.000000</td>\n",
       "      <td>13394.000000</td>\n",
       "      <td>13203.000000</td>\n",
       "      <td>0.0</td>\n",
       "    </tr>\n",
       "    <tr>\n",
       "      <th>mean</th>\n",
       "      <td>2014.194292</td>\n",
       "      <td>1555.412223</td>\n",
       "      <td>134.287005</td>\n",
       "      <td>2088.685347</td>\n",
       "      <td>2.039558</td>\n",
       "      <td>14546.417055</td>\n",
       "      <td>41381.010545</td>\n",
       "      <td>1366.281405</td>\n",
       "      <td>43960.244229</td>\n",
       "      <td>72852.654636</td>\n",
       "      <td>38974.800284</td>\n",
       "      <td>38643.081875</td>\n",
       "      <td>NaN</td>\n",
       "    </tr>\n",
       "    <tr>\n",
       "      <th>std</th>\n",
       "      <td>9.474873</td>\n",
       "      <td>816.127944</td>\n",
       "      <td>74.191856</td>\n",
       "      <td>1116.929951</td>\n",
       "      <td>1.364442</td>\n",
       "      <td>19684.905787</td>\n",
       "      <td>16565.523474</td>\n",
       "      <td>1196.465232</td>\n",
       "      <td>41846.966908</td>\n",
       "      <td>51252.773713</td>\n",
       "      <td>43604.756752</td>\n",
       "      <td>59029.332795</td>\n",
       "      <td>NaN</td>\n",
       "    </tr>\n",
       "    <tr>\n",
       "      <th>min</th>\n",
       "      <td>1933.000000</td>\n",
       "      <td>2.000000</td>\n",
       "      <td>40.500000</td>\n",
       "      <td>0.000000</td>\n",
       "      <td>1.000000</td>\n",
       "      <td>2680.000000</td>\n",
       "      <td>10.000000</td>\n",
       "      <td>50.000000</td>\n",
       "      <td>97.000000</td>\n",
       "      <td>1.000000</td>\n",
       "      <td>888.000000</td>\n",
       "      <td>90.000000</td>\n",
       "      <td>NaN</td>\n",
       "    </tr>\n",
       "    <tr>\n",
       "      <th>25%</th>\n",
       "      <td>2011.000000</td>\n",
       "      <td>1280.000000</td>\n",
       "      <td>90.000000</td>\n",
       "      <td>1498.000000</td>\n",
       "      <td>1.000000</td>\n",
       "      <td>8630.000000</td>\n",
       "      <td>31335.000000</td>\n",
       "      <td>684.000000</td>\n",
       "      <td>24913.000000</td>\n",
       "      <td>32794.750000</td>\n",
       "      <td>19211.250000</td>\n",
       "      <td>12653.000000</td>\n",
       "      <td>NaN</td>\n",
       "    </tr>\n",
       "    <tr>\n",
       "      <th>50%</th>\n",
       "      <td>2016.000000</td>\n",
       "      <td>1440.000000</td>\n",
       "      <td>110.000000</td>\n",
       "      <td>1797.000000</td>\n",
       "      <td>2.000000</td>\n",
       "      <td>10630.000000</td>\n",
       "      <td>40523.500000</td>\n",
       "      <td>976.000000</td>\n",
       "      <td>35621.000000</td>\n",
       "      <td>66000.000000</td>\n",
       "      <td>27131.000000</td>\n",
       "      <td>21886.000000</td>\n",
       "      <td>NaN</td>\n",
       "    </tr>\n",
       "    <tr>\n",
       "      <th>75%</th>\n",
       "      <td>2018.000000</td>\n",
       "      <td>1680.000000</td>\n",
       "      <td>147.000000</td>\n",
       "      <td>2359.000000</td>\n",
       "      <td>3.000000</td>\n",
       "      <td>14900.000000</td>\n",
       "      <td>51600.000000</td>\n",
       "      <td>1417.000000</td>\n",
       "      <td>50322.000000</td>\n",
       "      <td>105000.000000</td>\n",
       "      <td>40858.750000</td>\n",
       "      <td>42668.000000</td>\n",
       "      <td>NaN</td>\n",
       "    </tr>\n",
       "    <tr>\n",
       "      <th>max</th>\n",
       "      <td>2925.000000</td>\n",
       "      <td>18520.000000</td>\n",
       "      <td>552.000000</td>\n",
       "      <td>15681.000000</td>\n",
       "      <td>6.000000</td>\n",
       "      <td>865610.000000</td>\n",
       "      <td>97889.000000</td>\n",
       "      <td>12375.000000</td>\n",
       "      <td>653862.000000</td>\n",
       "      <td>740459.000000</td>\n",
       "      <td>592131.000000</td>\n",
       "      <td>858230.000000</td>\n",
       "      <td>NaN</td>\n",
       "    </tr>\n",
       "  </tbody>\n",
       "</table>\n",
       "</div>"
      ],
      "text/plain": [
       "       manufactured   curb_weight         power    engine_cap  no_of_owners  \\\n",
       "count  13279.000000  12959.000000  11558.000000  13383.000000  13297.000000   \n",
       "mean    2014.194292   1555.412223    134.287005   2088.685347      2.039558   \n",
       "std        9.474873    816.127944     74.191856   1116.929951      1.364442   \n",
       "min     1933.000000      2.000000     40.500000      0.000000      1.000000   \n",
       "25%     2011.000000   1280.000000     90.000000   1498.000000      1.000000   \n",
       "50%     2016.000000   1440.000000    110.000000   1797.000000      2.000000   \n",
       "75%     2018.000000   1680.000000    147.000000   2359.000000      3.000000   \n",
       "max     2925.000000  18520.000000    552.000000  15681.000000      6.000000   \n",
       "\n",
       "        depreciation           coe      road_tax    dereg_value  \\\n",
       "count   13087.000000  12708.000000  11702.000000   12476.000000   \n",
       "mean    14546.417055  41381.010545   1366.281405   43960.244229   \n",
       "std     19684.905787  16565.523474   1196.465232   41846.966908   \n",
       "min      2680.000000     10.000000     50.000000      97.000000   \n",
       "25%      8630.000000  31335.000000    684.000000   24913.000000   \n",
       "50%     10630.000000  40523.500000    976.000000   35621.000000   \n",
       "75%     14900.000000  51600.000000   1417.000000   50322.000000   \n",
       "max    865610.000000  97889.000000  12375.000000  653862.000000   \n",
       "\n",
       "             mileage            omv            arf  indicative_price  \n",
       "count   10418.000000   13394.000000   13203.000000               0.0  \n",
       "mean    72852.654636   38974.800284   38643.081875               NaN  \n",
       "std     51252.773713   43604.756752   59029.332795               NaN  \n",
       "min         1.000000     888.000000      90.000000               NaN  \n",
       "25%     32794.750000   19211.250000   12653.000000               NaN  \n",
       "50%     66000.000000   27131.000000   21886.000000               NaN  \n",
       "75%    105000.000000   40858.750000   42668.000000               NaN  \n",
       "max    740459.000000  592131.000000  858230.000000               NaN  "
      ]
     },
     "execution_count": 20,
     "metadata": {},
     "output_type": "execute_result"
    }
   ],
   "source": [
    "X_train.describe()"
   ]
  },
  {
   "cell_type": "markdown",
   "metadata": {
    "id": "K1DX7b7wSKP_"
   },
   "source": [
    "### 3.2 Check for number of missing values"
   ]
  },
  {
   "cell_type": "markdown",
   "metadata": {
    "id": "5nxg3a2JSKP_"
   },
   "source": [
    "- to show the percentage of null in each feature\n",
    "- we can see here that `original_reg_date`, `fuel_type`, `opc_scheme`, `lifespan`, `indicative_price` are with high percentage of empty entry"
   ]
  },
  {
   "cell_type": "code",
   "execution_count": 21,
   "metadata": {
    "ExecuteTime": {
     "end_time": "2021-11-13T02:54:01.686508Z",
     "start_time": "2021-11-13T02:54:01.568588Z"
    },
    "colab": {
     "base_uri": "https://localhost:8080/"
    },
    "id": "mUhXQOKUSKP_",
    "outputId": "8dea059a-6072-4f56-8360-bbe9521a8d4f"
   },
   "outputs": [
    {
     "data": {
      "text/plain": [
       "title                0.000000\n",
       "make                 0.129813\n",
       "model                0.000000\n",
       "description          0.020332\n",
       "manufactured         0.011023\n",
       "original_reg_date    0.981157\n",
       "reg_date             0.011395\n",
       "type_of_vehicle      0.000000\n",
       "category             0.000000\n",
       "transmission         0.000000\n",
       "curb_weight          0.034855\n",
       "power                0.139197\n",
       "fuel_type            0.791465\n",
       "engine_cap           0.003277\n",
       "no_of_owners         0.009682\n",
       "depreciation         0.025322\n",
       "coe                  0.053549\n",
       "road_tax             0.128472\n",
       "dereg_value          0.070827\n",
       "mileage              0.224101\n",
       "omv                  0.002458\n",
       "arf                  0.016683\n",
       "opc_scheme           0.988158\n",
       "lifespan             0.899233\n",
       "eco_category         0.000000\n",
       "features             0.027110\n",
       "accessories          0.168839\n",
       "indicative_price     1.000000\n",
       "dtype: float64"
      ]
     },
     "execution_count": 21,
     "metadata": {},
     "output_type": "execute_result"
    }
   ],
   "source": [
    "X_train.apply(lambda x: sum(x.isnull()))/X_train.shape[0]"
   ]
  },
  {
   "cell_type": "markdown",
   "metadata": {
    "id": "X21mx1aaSKQA"
   },
   "source": [
    "### 3.3 Feature selection\n",
    "\n",
    "**Features to keep:**\n",
    "\n",
    "numerical columns:\n",
    "- `manufactured`\n",
    "- `curb_weight`\n",
    "- `power`\n",
    "- `engine_cap` \n",
    "- `no_of_owners`\n",
    "- `depreciation` \n",
    "- `coe`\n",
    "- `dereg_value`\n",
    "- `mileage`\n",
    "- `omv`\n",
    "- `reg_date_processed` (to be created)\n",
    "\n",
    "categorical columns:\n",
    "- `type_of_vehicle`\n",
    "- `transmission`\n",
    "- `manufacturer`(to be created)\n",
    "\n",
    "\n",
    "**Feathures to drop:**\n",
    "- `omv` &`arf`: as a new feature `ARF_calculated` is created\n",
    "- `road_tax`: as collinear with `engine_cap`\n",
    "- `model`: categorical feature contains 692 unique values that not helpful for regression \n",
    "- `title`: categorical feature contains 5775 unique values that not helpful for regression\n",
    "- `make`: new feature `manufacturer`will be created to replace `make`\n",
    "- `description`: drop as too much content that requires further processing. \n",
    "- `original_reg_date`: drop as new feature `reg_date_processed` is created\n",
    "- `reg_date`: drop as new feature `reg_date_processed` is created\n",
    "- `category`: drop as too much content that requires further processing.\n",
    "- `fuel_type`: 79% are null\n",
    "- `opc_scheme`: 99% are null\n",
    "- `lifespan`: 90% are null\n",
    "- `eco_category`: only 1 unique value, not meaningful\n",
    "- `features`: drop as too much content that requires further processing.\n",
    "- `accessories`: drop as too much content that requires further processing.\n",
    "- `indicative_price`: 100% are null"
   ]
  },
  {
   "cell_type": "markdown",
   "metadata": {
    "id": "ZGk4mzJASKQB"
   },
   "source": [
    "### 3.4 Feature creation\n",
    "- Creat a custom FeatureCreator for creating new features\n",
    "- `ARF_calculated`: is created based on the `omv` and `arf`, that the missing vaule in `arf` is filled based on following calculation with reference from: https://www.sgcarmart.com/news/writeup.php?AID=13\n",
    "    - For cars with an `omv` of up to 20,000: `arf` = `omv`\n",
    "    - For cars with an `omv` ranging from 20,001 to 50,000: `arf` = [(`omv` - 20,000) x 140%] + 20,000\n",
    "    - For cars with an `omv` above 50,000: `arf` = [(`omv` - 50,000) x 180%] + 62,000\n",
    "- It is observed that `original_reg_date` and `reg_date` can be merged together, as for all rows with missing values in `reg_date`, we can fill it with `original_reg_date`. `reg_date_processed` is created for the merge.\n",
    "- Also as `reg_date_processed` is in datetime format, it can not be processed in the sklearn pipeline, we will convert it to the date_count till today (4-Oct-2021).\n",
    "- It's also notised that the `make` column has some missing values, but the first word of the `title` serves the same funtion, so we will just parse `title` and use the first word to create a new feature `manufacturer`\n"
   ]
  },
  {
   "cell_type": "code",
   "execution_count": 22,
   "metadata": {
    "ExecuteTime": {
     "end_time": "2021-11-13T02:54:01.702034Z",
     "start_time": "2021-11-13T02:54:01.689453Z"
    },
    "id": "08EyJ7e6SKQB"
   },
   "outputs": [],
   "source": [
    "class FeatureCreator(BaseEstimator,TransformerMixin):\n",
    "    def __init__(self):\n",
    "        return\n",
    "        \n",
    "    def fit(self, X, y=None, **fit_params):\n",
    "        return self\n",
    "        \n",
    "    def transform(self, X, y=None, **fit_params):\n",
    "        self.X = X.copy()\n",
    "\n",
    "        self.X['reg_date_processed'] = np.where(self.X['reg_date'].isnull(), self.X['original_reg_date'],self.X['reg_date'] )            \n",
    "        \n",
    "        self.X['reg_date_processed'] = pd.to_datetime(\"4-Oct-2021\").date() - pd.to_datetime(self.X['reg_date_processed']).dt.date\n",
    "        self.X['reg_date_processed'] = self.X['reg_date_processed'].dt.days/365\n",
    "        \n",
    "        conditions = [\n",
    "            self.X['omv'] <= 20000,\n",
    "            (self.X['omv'] > 20000) & (self.X['omv'] <=50000),\n",
    "            self.X['omv'] > 50000\n",
    "        ]\n",
    "\n",
    "        values = [\n",
    "            self.X['omv'],\n",
    "            ((self.X['omv']-20000)*1.4+20000),\n",
    "            ((self.X['omv']-50000)*1.8+62000)\n",
    "        ]\n",
    "\n",
    "        self.X['ARF_calculated'] = np.select(conditions, values, default=0)\n",
    "        \n",
    "        self.X['ARF_calculated'] = np.where(self.X['arf'].isnull(), self.X['ARF_calculated'],self.X['arf'] ) \n",
    "        \n",
    "        self.X['manufacturer'] = self.X['title'].str.split().str[0]\n",
    "\n",
    "        return self.X "
   ]
  },
  {
   "cell_type": "code",
   "execution_count": 23,
   "metadata": {
    "ExecuteTime": {
     "end_time": "2021-11-13T02:54:03.799014Z",
     "start_time": "2021-11-13T02:54:01.707022Z"
    },
    "colab": {
     "base_uri": "https://localhost:8080/",
     "height": 0
    },
    "id": "ShRz4mMdSKQB",
    "outputId": "d4b1b439-455c-4540-c237-cd9039305fa0"
   },
   "outputs": [
    {
     "data": {
      "text/html": [
       "<div>\n",
       "<style scoped>\n",
       "    .dataframe tbody tr th:only-of-type {\n",
       "        vertical-align: middle;\n",
       "    }\n",
       "\n",
       "    .dataframe tbody tr th {\n",
       "        vertical-align: top;\n",
       "    }\n",
       "\n",
       "    .dataframe thead th {\n",
       "        text-align: right;\n",
       "    }\n",
       "</style>\n",
       "<table border=\"1\" class=\"dataframe\">\n",
       "  <thead>\n",
       "    <tr style=\"text-align: right;\">\n",
       "      <th></th>\n",
       "      <th>title</th>\n",
       "      <th>make</th>\n",
       "      <th>model</th>\n",
       "      <th>description</th>\n",
       "      <th>manufactured</th>\n",
       "      <th>original_reg_date</th>\n",
       "      <th>reg_date</th>\n",
       "      <th>type_of_vehicle</th>\n",
       "      <th>category</th>\n",
       "      <th>transmission</th>\n",
       "      <th>...</th>\n",
       "      <th>opc_scheme</th>\n",
       "      <th>lifespan</th>\n",
       "      <th>eco_category</th>\n",
       "      <th>features</th>\n",
       "      <th>accessories</th>\n",
       "      <th>indicative_price</th>\n",
       "      <th>price</th>\n",
       "      <th>reg_date_processed</th>\n",
       "      <th>ARF_calculated</th>\n",
       "      <th>manufacturer</th>\n",
       "    </tr>\n",
       "    <tr>\n",
       "      <th>listing_id</th>\n",
       "      <th></th>\n",
       "      <th></th>\n",
       "      <th></th>\n",
       "      <th></th>\n",
       "      <th></th>\n",
       "      <th></th>\n",
       "      <th></th>\n",
       "      <th></th>\n",
       "      <th></th>\n",
       "      <th></th>\n",
       "      <th></th>\n",
       "      <th></th>\n",
       "      <th></th>\n",
       "      <th></th>\n",
       "      <th></th>\n",
       "      <th></th>\n",
       "      <th></th>\n",
       "      <th></th>\n",
       "      <th></th>\n",
       "      <th></th>\n",
       "      <th></th>\n",
       "    </tr>\n",
       "  </thead>\n",
       "  <tbody>\n",
       "    <tr>\n",
       "      <th>1030324</th>\n",
       "      <td>BMW 3 Series 320i Gran Turismo M-Sport</td>\n",
       "      <td>bmw</td>\n",
       "      <td>320i</td>\n",
       "      <td>1 owner! 320i gt m-sports model! big brake kit...</td>\n",
       "      <td>2013.0</td>\n",
       "      <td>NaN</td>\n",
       "      <td>09-dec-2013</td>\n",
       "      <td>luxury sedan</td>\n",
       "      <td>parf car, premium ad car, low mileage car</td>\n",
       "      <td>auto</td>\n",
       "      <td>...</td>\n",
       "      <td>NaN</td>\n",
       "      <td>NaN</td>\n",
       "      <td>uncategorized</td>\n",
       "      <td>5 doors gt, powerful and fuel efficient 2.0l t...</td>\n",
       "      <td>bmw i-drive, navigation, bluetooth/aux/usb inp...</td>\n",
       "      <td>NaN</td>\n",
       "      <td>71300.0</td>\n",
       "      <td>7.824658</td>\n",
       "      <td>50462.0</td>\n",
       "      <td>BMW</td>\n",
       "    </tr>\n",
       "    <tr>\n",
       "      <th>1021510</th>\n",
       "      <td>Toyota Hiace 3.0M</td>\n",
       "      <td>NaN</td>\n",
       "      <td>hiace</td>\n",
       "      <td>high loan available! low mileage unit. wear an...</td>\n",
       "      <td>2014.0</td>\n",
       "      <td>NaN</td>\n",
       "      <td>26-jan-2015</td>\n",
       "      <td>van</td>\n",
       "      <td>premium ad car</td>\n",
       "      <td>manual</td>\n",
       "      <td>...</td>\n",
       "      <td>NaN</td>\n",
       "      <td>25-jan-2035</td>\n",
       "      <td>uncategorized</td>\n",
       "      <td>low mileage unit. well maintained vehicle. vie...</td>\n",
       "      <td>factory radio setting. front recording camera....</td>\n",
       "      <td>NaN</td>\n",
       "      <td>43800.0</td>\n",
       "      <td>6.693151</td>\n",
       "      <td>1376.0</td>\n",
       "      <td>Toyota</td>\n",
       "    </tr>\n",
       "    <tr>\n",
       "      <th>1026909</th>\n",
       "      <td>Mercedes-Benz CLA-Class CLA180</td>\n",
       "      <td>mercedes-benz</td>\n",
       "      <td>cla180</td>\n",
       "      <td>1 owner c&amp;c unit. full agent service with 1 mo...</td>\n",
       "      <td>2016.0</td>\n",
       "      <td>NaN</td>\n",
       "      <td>25-jul-2016</td>\n",
       "      <td>luxury sedan</td>\n",
       "      <td>parf car, premium ad car</td>\n",
       "      <td>auto</td>\n",
       "      <td>...</td>\n",
       "      <td>NaN</td>\n",
       "      <td>NaN</td>\n",
       "      <td>uncategorized</td>\n",
       "      <td>responsive and fuel efficient 1.6l inline 4 cy...</td>\n",
       "      <td>dual electric/memory seats. factory fitted aud...</td>\n",
       "      <td>NaN</td>\n",
       "      <td>95500.0</td>\n",
       "      <td>5.197260</td>\n",
       "      <td>26041.0</td>\n",
       "      <td>Mercedes-Benz</td>\n",
       "    </tr>\n",
       "    <tr>\n",
       "      <th>1019371</th>\n",
       "      <td>Mercedes-Benz E-Class E180 Avantgarde</td>\n",
       "      <td>mercedes-benz</td>\n",
       "      <td>e180</td>\n",
       "      <td>fully agent maintained, 3 years warranty 10 ye...</td>\n",
       "      <td>2019.0</td>\n",
       "      <td>NaN</td>\n",
       "      <td>17-nov-2020</td>\n",
       "      <td>luxury sedan</td>\n",
       "      <td>parf car, almost new car, consignment car</td>\n",
       "      <td>auto</td>\n",
       "      <td>...</td>\n",
       "      <td>NaN</td>\n",
       "      <td>NaN</td>\n",
       "      <td>uncategorized</td>\n",
       "      <td>1.5l inline-4 twin scroll turbocharged engine,...</td>\n",
       "      <td>64 colour ambient lighting. active parking ass...</td>\n",
       "      <td>NaN</td>\n",
       "      <td>197900.0</td>\n",
       "      <td>0.879452</td>\n",
       "      <td>56977.0</td>\n",
       "      <td>Mercedes-Benz</td>\n",
       "    </tr>\n",
       "    <tr>\n",
       "      <th>1031014</th>\n",
       "      <td>Honda Civic 1.6A VTi</td>\n",
       "      <td>NaN</td>\n",
       "      <td>civic</td>\n",
       "      <td>kah motor unit! 1 owner, lowest 1.98% for full...</td>\n",
       "      <td>2019.0</td>\n",
       "      <td>NaN</td>\n",
       "      <td>20-sep-2019</td>\n",
       "      <td>mid-sized sedan</td>\n",
       "      <td>parf car</td>\n",
       "      <td>auto</td>\n",
       "      <td>...</td>\n",
       "      <td>NaN</td>\n",
       "      <td>NaN</td>\n",
       "      <td>uncategorized</td>\n",
       "      <td>1.6l i-vtec engine, 123 bhp, earth dreams cvt ...</td>\n",
       "      <td>s/rims, premium leather seats, factory touch s...</td>\n",
       "      <td>NaN</td>\n",
       "      <td>103200.0</td>\n",
       "      <td>2.041096</td>\n",
       "      <td>20101.0</td>\n",
       "      <td>Honda</td>\n",
       "    </tr>\n",
       "  </tbody>\n",
       "</table>\n",
       "<p>5 rows × 32 columns</p>\n",
       "</div>"
      ],
      "text/plain": [
       "                                             title           make   model  \\\n",
       "listing_id                                                                  \n",
       "1030324     BMW 3 Series 320i Gran Turismo M-Sport            bmw    320i   \n",
       "1021510                          Toyota Hiace 3.0M            NaN   hiace   \n",
       "1026909             Mercedes-Benz CLA-Class CLA180  mercedes-benz  cla180   \n",
       "1019371      Mercedes-Benz E-Class E180 Avantgarde  mercedes-benz    e180   \n",
       "1031014                       Honda Civic 1.6A VTi            NaN   civic   \n",
       "\n",
       "                                                  description  manufactured  \\\n",
       "listing_id                                                                    \n",
       "1030324     1 owner! 320i gt m-sports model! big brake kit...        2013.0   \n",
       "1021510     high loan available! low mileage unit. wear an...        2014.0   \n",
       "1026909     1 owner c&c unit. full agent service with 1 mo...        2016.0   \n",
       "1019371     fully agent maintained, 3 years warranty 10 ye...        2019.0   \n",
       "1031014     kah motor unit! 1 owner, lowest 1.98% for full...        2019.0   \n",
       "\n",
       "           original_reg_date     reg_date  type_of_vehicle  \\\n",
       "listing_id                                                   \n",
       "1030324                  NaN  09-dec-2013     luxury sedan   \n",
       "1021510                  NaN  26-jan-2015              van   \n",
       "1026909                  NaN  25-jul-2016     luxury sedan   \n",
       "1019371                  NaN  17-nov-2020     luxury sedan   \n",
       "1031014                  NaN  20-sep-2019  mid-sized sedan   \n",
       "\n",
       "                                             category transmission  ...  \\\n",
       "listing_id                                                          ...   \n",
       "1030324     parf car, premium ad car, low mileage car         auto  ...   \n",
       "1021510                                premium ad car       manual  ...   \n",
       "1026909                      parf car, premium ad car         auto  ...   \n",
       "1019371     parf car, almost new car, consignment car         auto  ...   \n",
       "1031014                                      parf car         auto  ...   \n",
       "\n",
       "            opc_scheme     lifespan   eco_category  \\\n",
       "listing_id                                           \n",
       "1030324            NaN          NaN  uncategorized   \n",
       "1021510            NaN  25-jan-2035  uncategorized   \n",
       "1026909            NaN          NaN  uncategorized   \n",
       "1019371            NaN          NaN  uncategorized   \n",
       "1031014            NaN          NaN  uncategorized   \n",
       "\n",
       "                                                     features  \\\n",
       "listing_id                                                      \n",
       "1030324     5 doors gt, powerful and fuel efficient 2.0l t...   \n",
       "1021510     low mileage unit. well maintained vehicle. vie...   \n",
       "1026909     responsive and fuel efficient 1.6l inline 4 cy...   \n",
       "1019371     1.5l inline-4 twin scroll turbocharged engine,...   \n",
       "1031014     1.6l i-vtec engine, 123 bhp, earth dreams cvt ...   \n",
       "\n",
       "                                                  accessories  \\\n",
       "listing_id                                                      \n",
       "1030324     bmw i-drive, navigation, bluetooth/aux/usb inp...   \n",
       "1021510     factory radio setting. front recording camera....   \n",
       "1026909     dual electric/memory seats. factory fitted aud...   \n",
       "1019371     64 colour ambient lighting. active parking ass...   \n",
       "1031014     s/rims, premium leather seats, factory touch s...   \n",
       "\n",
       "            indicative_price     price  reg_date_processed  ARF_calculated  \\\n",
       "listing_id                                                                   \n",
       "1030324                  NaN   71300.0            7.824658         50462.0   \n",
       "1021510                  NaN   43800.0            6.693151          1376.0   \n",
       "1026909                  NaN   95500.0            5.197260         26041.0   \n",
       "1019371                  NaN  197900.0            0.879452         56977.0   \n",
       "1031014                  NaN  103200.0            2.041096         20101.0   \n",
       "\n",
       "             manufacturer  \n",
       "listing_id                 \n",
       "1030324               BMW  \n",
       "1021510            Toyota  \n",
       "1026909     Mercedes-Benz  \n",
       "1019371     Mercedes-Benz  \n",
       "1031014             Honda  \n",
       "\n",
       "[5 rows x 32 columns]"
      ]
     },
     "execution_count": 23,
     "metadata": {},
     "output_type": "execute_result"
    }
   ],
   "source": [
    "###test\n",
    "fc = FeatureCreator()\n",
    "test = fc.fit_transform(df)\n",
    "test.head()"
   ]
  },
  {
   "cell_type": "markdown",
   "metadata": {
    "id": "VObKSZYmSKQC"
   },
   "source": [
    "### 3.5 Create imputor and encoder"
   ]
  },
  {
   "cell_type": "code",
   "execution_count": 24,
   "metadata": {
    "ExecuteTime": {
     "end_time": "2021-11-13T02:54:03.815090Z",
     "start_time": "2021-11-13T02:54:03.801008Z"
    },
    "id": "D2ov-QVsSKQC"
   },
   "outputs": [],
   "source": [
    "#create imputers\n",
    "num_imp = SimpleImputer(strategy='mean')\n",
    "cat_imp = SimpleImputer(strategy=\"most_frequent\")\n",
    "\n",
    "#create transformers\n",
    "cat_enc = OneHotEncoder(handle_unknown='ignore')\n",
    "\n",
    "#create encoders\n",
    "num_encoder = num_imp\n",
    "cat_encoder = Pipeline(steps=[('cat_imp', cat_imp), ('cat_enc', cat_enc)])\n"
   ]
  },
  {
   "cell_type": "code",
   "execution_count": 25,
   "metadata": {
    "ExecuteTime": {
     "end_time": "2021-11-13T02:54:03.846714Z",
     "start_time": "2021-11-13T02:54:03.819390Z"
    },
    "id": "9ntAAQEXSKQC"
   },
   "outputs": [],
   "source": [
    "from sklearn import compose\n",
    "\n",
    "num_cols = ['manufactured', 'curb_weight', 'power', 'engine_cap', 'no_of_owners',\n",
    "            'depreciation', 'coe','dereg_value', 'mileage','reg_date_processed','ARF_calculated']\n",
    "# cat_cols = [ 'type_of_vehicle', 'transmission', 'manufacturer']\n",
    "\n",
    "coltfr = compose.ColumnTransformer(\n",
    "                transformers=[\n",
    "                    ('num', num_encoder, num_cols),\n",
    "#                     ('cat', cat_encoder, cat_cols),\n",
    "                ], remainder ='drop')\n",
    "                \n",
    "preprocessor = Pipeline(steps=[\n",
    "    ('featcreate', FeatureCreator()),\n",
    "    ('colproc', coltfr)\n",
    "])"
   ]
  },
  {
   "cell_type": "code",
   "execution_count": 26,
   "metadata": {
    "ExecuteTime": {
     "end_time": "2021-11-13T02:54:03.862133Z",
     "start_time": "2021-11-13T02:54:03.852548Z"
    },
    "colab": {
     "base_uri": "https://localhost:8080/"
    },
    "id": "QwMV0JdxSKQC",
    "outputId": "c2039bd6-94cb-40a4-b09e-616f7178c8bf"
   },
   "outputs": [
    {
     "data": {
      "text/plain": [
       "(13427, 28)"
      ]
     },
     "execution_count": 26,
     "metadata": {},
     "output_type": "execute_result"
    }
   ],
   "source": [
    "X_train.shape"
   ]
  },
  {
   "cell_type": "code",
   "execution_count": 27,
   "metadata": {
    "ExecuteTime": {
     "end_time": "2021-11-13T02:54:05.479539Z",
     "start_time": "2021-11-13T02:54:03.867922Z"
    },
    "colab": {
     "base_uri": "https://localhost:8080/"
    },
    "id": "e_nSn-4NSKQD",
    "outputId": "f0f5c9d1-55c8-44d0-f412-fd280d5ccf75"
   },
   "outputs": [
    {
     "data": {
      "text/plain": [
       "(13427, 11)"
      ]
     },
     "execution_count": 27,
     "metadata": {},
     "output_type": "execute_result"
    }
   ],
   "source": [
    "X_procd = preprocessor.fit_transform(X_train, Y_train)\n",
    "X_procd.shape"
   ]
  },
  {
   "cell_type": "markdown",
   "metadata": {
    "id": "5kMWY4n3SKQD"
   },
   "source": [
    "### 3.6 Create the pipelines for 4 different basic estimators\n",
    "- Linear regression\n",
    "- RidgeCV\n",
    "- Decision tree\n",
    "- KNN"
   ]
  },
  {
   "cell_type": "code",
   "execution_count": 28,
   "metadata": {
    "ExecuteTime": {
     "end_time": "2021-11-13T02:54:05.509961Z",
     "start_time": "2021-11-13T02:54:05.489581Z"
    },
    "id": "gZ8PHNmHSKQD"
   },
   "outputs": [],
   "source": [
    "est1 = Pipeline(steps=[('preprocessor', preprocessor),\n",
    "                       ('regression', LinearRegression())])\n",
    "est2 = Pipeline(steps=[('preprocessor', preprocessor),\n",
    "                       ('regression', RidgeCV(cv=5))])\n",
    "est3 = Pipeline(steps=[('preprocessor', preprocessor),\n",
    "                       ('regression', DecisionTreeRegressor(random_state =0))])\n",
    "est4 = Pipeline(steps=[('preprocessor', preprocessor),\n",
    "                       ('regression', KNeighborsRegressor())])\n"
   ]
  },
  {
   "cell_type": "markdown",
   "metadata": {
    "id": "RgSakguASKQE"
   },
   "source": [
    "### 3.7 To fit the estimators and check the performance metics\n",
    "- Intorducing 5 folds cross validation on the train data\n",
    "\n",
    "**Finding:**\n",
    "\n",
    "- Slightly overfitting can be seen here as RMSE_validation is higher than RMSE_training "
   ]
  },
  {
   "cell_type": "code",
   "execution_count": 29,
   "metadata": {
    "ExecuteTime": {
     "end_time": "2021-11-13T02:55:07.913535Z",
     "start_time": "2021-11-13T02:54:05.513357Z"
    }
   },
   "outputs": [
    {
     "name": "stdout",
     "output_type": "stream",
     "text": [
      "est 1, RMSE training =  51786 (  1514), RMSE validation =  55737 (  9045)\n",
      "est 2, RMSE training =  51786 (  1514), RMSE validation =  55732 (  9038)\n",
      "est 3, RMSE training =      0 (     0), RMSE validation =  43153 (  4096)\n",
      "est 4, RMSE training =  31147 (  1691), RMSE validation =  37968 (  6220)\n"
     ]
    }
   ],
   "source": [
    "i=0\n",
    "for est in [est1, est2, est3,est4]:\n",
    "\n",
    "    \n",
    "    # Perform 5-fold cross_validations\n",
    "    scores = cross_validate(est, X_train, Y_train, cv=5, scoring='neg_root_mean_squared_error', return_train_score=True)\n",
    "    RMSE_train = scores['train_score'] * (-1)\n",
    "    RMSE_valid = scores['test_score'] * (-1)\n",
    "    \n",
    "    i+=1\n",
    "    print('est {}, RMSE training = {:6.0f} ({:6.0f}), RMSE validation = {:6.0f} ({:6.0f})'\n",
    "          .format(i, np.mean(RMSE_train), np.std(RMSE_train), np.mean(RMSE_valid), np.std(RMSE_valid)))"
   ]
  },
  {
   "cell_type": "markdown",
   "metadata": {
    "id": "fF7Eu07ASKQE"
   },
   "source": [
    "### 3.8 Move on to add the feature selection into the pipeline, and also introuducing the ensamble regressors\n",
    "- Add feature slection: SelectKBest(), choose k=11 for 11 best features\n",
    "- Add standardization, StandardScaler() / MinMaxScaler() \n",
    "- redo 5 folds cross validation on the train data\n",
    "\n",
    "**Finding:**\n",
    "- `est4_new`, `est5_new` and `est7_new` have better performance.\n",
    "- Further fine tunning on the hyper parameter could be done\n",
    "- StandardScaler() shows better result compared to MinMaxScaler, hence to choose StandardScaler()"
   ]
  },
  {
   "cell_type": "code",
   "execution_count": 30,
   "metadata": {
    "ExecuteTime": {
     "end_time": "2021-11-13T02:55:07.992347Z",
     "start_time": "2021-11-13T02:55:07.917525Z"
    },
    "id": "AoVBSi0xSKQE"
   },
   "outputs": [],
   "source": [
    "from sklearn.feature_selection import SelectKBest\n",
    "from sklearn.feature_selection import f_regression\n",
    "from sklearn.ensemble import RandomForestRegressor, GradientBoostingRegressor, AdaBoostRegressor\n",
    "from sklearn.model_selection import cross_val_score\n",
    "from sklearn.preprocessing import Normalizer, MinMaxScaler\n",
    "\n",
    "\n",
    "# to perform the feature selection\n",
    "\n",
    "scaler = StandardScaler(with_mean=False)\n",
    "# scaler = MinMaxScaler()\n",
    "\n",
    "k =11\n",
    "\n",
    "est1_new = Pipeline(steps=[('preprocessor', preprocessor),('scaler',scaler),\n",
    "                           ('feature_sel',SelectKBest(score_func=f_regression, k=k)),\n",
    "                       ('regression', LinearRegression())])\n",
    "\n",
    "est2_new = Pipeline(steps=[('preprocessor', preprocessor),('scaler',scaler),\n",
    "                           ('feature_sel',SelectKBest(score_func=f_regression, k=k)),\n",
    "                       ('regression', RidgeCV(cv=5))])\n",
    "\n",
    "est3_new = Pipeline(steps=[('preprocessor', preprocessor),('scaler',scaler),\n",
    "                           ('feature_sel',SelectKBest(score_func=f_regression, k=k)),\n",
    "                       ('regression', DecisionTreeRegressor(random_state =0))])\n",
    "\n",
    "est4_new = Pipeline(steps=[('preprocessor', preprocessor),('scaler',scaler),\n",
    "                           ('feature_sel',SelectKBest(score_func=f_regression, k=k)),\n",
    "                       ('regression', KNeighborsRegressor(n_neighbors=3))])\n",
    "\n",
    "est5_new = Pipeline(steps=[('preprocessor', preprocessor),('scaler',scaler),\n",
    "                           ('feature_sel',SelectKBest(score_func=f_regression, k=k)),\n",
    "                       ('regression', RandomForestRegressor(random_state =0, \n",
    "                                                            n_estimators =20))])\n",
    "\n",
    "est6_new = Pipeline(steps=[('preprocessor', preprocessor),('scaler',scaler),\n",
    "                           ('feature_sel',SelectKBest(score_func=f_regression, k=k)),\n",
    "                       ('regression', AdaBoostRegressor(random_state =0 ))])\n",
    "\n",
    "est7_new = Pipeline(steps=[('preprocessor', preprocessor),('scaler',scaler),\n",
    "                           ('feature_sel',SelectKBest(score_func=f_regression, k=k)),\n",
    "                       ('regression', GradientBoostingRegressor(random_state =0 ))])\n"
   ]
  },
  {
   "cell_type": "code",
   "execution_count": 31,
   "metadata": {
    "ExecuteTime": {
     "end_time": "2021-11-13T02:57:52.666428Z",
     "start_time": "2021-11-13T02:55:07.994122Z"
    },
    "colab": {
     "base_uri": "https://localhost:8080/"
    },
    "id": "oX-X76_YSKQE",
    "outputId": "fdb2b35b-4fde-47d1-efbc-ce3f5241fdde"
   },
   "outputs": [
    {
     "name": "stdout",
     "output_type": "stream",
     "text": [
      "est 1, RMSE training =  51786 (  1514), RMSE validation =  55737 (  9045)\n",
      "est 2, RMSE training =  51787 (  1514), RMSE validation =  55620 (  8885)\n",
      "est 3, RMSE training =      0 (     0), RMSE validation =  43151 (  4093)\n",
      "est 4, RMSE training =  23438 (  2160), RMSE validation =  34711 (  6881)\n",
      "est 5, RMSE training =  12138 (   775), RMSE validation =  28132 (  8291)\n",
      "est 6, RMSE training = 106705 ( 35119), RMSE validation = 111090 ( 30627)\n",
      "est 7, RMSE training =  19813 (   274), RMSE validation =  31909 (  6979)\n"
     ]
    }
   ],
   "source": [
    "i=0\n",
    "for est in [est1_new, est2_new, est3_new, est4_new, est5_new, est6_new, est7_new]:\n",
    "\n",
    "    \n",
    "    # Perform 10-fold cross_validations\n",
    "    scores = cross_validate(est, X_train, Y_train, cv=5, scoring='neg_root_mean_squared_error', return_train_score=True)\n",
    "    RMSE_train = scores['train_score'] * (-1)\n",
    "    RMSE_valid = scores['test_score'] * (-1)\n",
    "    \n",
    "    i+=1\n",
    "    print('est {}, RMSE training = {:6.0f} ({:6.0f}), RMSE validation = {:6.0f} ({:6.0f})'\n",
    "          .format(i, np.mean(RMSE_train), np.std(RMSE_train), np.mean(RMSE_valid), np.std(RMSE_valid)))"
   ]
  },
  {
   "cell_type": "markdown",
   "metadata": {},
   "source": [
    "### 3.9 To test the select `est4_new`,`est5_new`, `est7_new`on the hold out data\n",
    "- `est5_new` is selected as the final estimator for the regression model based on the low RMSE result"
   ]
  },
  {
   "cell_type": "markdown",
   "metadata": {},
   "source": [
    "**To test the model on hold out set: est4_new**"
   ]
  },
  {
   "cell_type": "code",
   "execution_count": 32,
   "metadata": {
    "ExecuteTime": {
     "end_time": "2021-11-13T02:57:54.930049Z",
     "start_time": "2021-11-13T02:57:52.670156Z"
    }
   },
   "outputs": [
    {
     "name": "stdout",
     "output_type": "stream",
     "text": [
      "RMSE test est4_new=39052.7\n",
      "R2 test est4_new =0.927473901823418\n"
     ]
    }
   ],
   "source": [
    "#X_train, X_htest, Y_train, Y_htest\n",
    "est4_new.fit(X_train, Y_train )\n",
    "\n",
    "Y_prd = est4_new.predict(X_htest)\n",
    "    \n",
    "print('RMSE test est4_new={:.01f}'.format(mean_squared_error(Y_htest, Y_prd)**0.5))\n",
    "print('R2 test est4_new ={}'.format( r2_score(Y_htest, Y_prd)))\n"
   ]
  },
  {
   "cell_type": "markdown",
   "metadata": {},
   "source": [
    "**To test the model on hold out set: est5_new**"
   ]
  },
  {
   "cell_type": "code",
   "execution_count": 33,
   "metadata": {
    "ExecuteTime": {
     "end_time": "2021-11-13T02:57:59.128170Z",
     "start_time": "2021-11-13T02:57:54.935039Z"
    }
   },
   "outputs": [
    {
     "name": "stdout",
     "output_type": "stream",
     "text": [
      "RMSE test est5_new=30707.1\n",
      "R2 test est5_new =0.955159593897666\n"
     ]
    }
   ],
   "source": [
    "#X_train, X_htest, Y_train, Y_htest\n",
    "est5_new.fit(X_train, Y_train )\n",
    "\n",
    "Y_prd = est5_new.predict(X_htest)\n",
    "    \n",
    "print('RMSE test est5_new={:.01f}'.format(mean_squared_error(Y_htest, Y_prd)**0.5))\n",
    "print('R2 test est5_new ={}'.format( r2_score(Y_htest, Y_prd)))\n"
   ]
  },
  {
   "cell_type": "markdown",
   "metadata": {},
   "source": [
    "**To test the model on hold out set: est7_new**"
   ]
  },
  {
   "cell_type": "code",
   "execution_count": 34,
   "metadata": {
    "ExecuteTime": {
     "end_time": "2021-11-13T02:58:04.364779Z",
     "start_time": "2021-11-13T02:57:59.131477Z"
    }
   },
   "outputs": [
    {
     "name": "stdout",
     "output_type": "stream",
     "text": [
      "RMSE test est7_new=33889.0\n",
      "R2 test est7_new =0.9453851423252817\n"
     ]
    }
   ],
   "source": [
    "#X_train, X_htest, Y_train, Y_htest\n",
    "est7_new.fit(X_train, Y_train )\n",
    "\n",
    "Y_prd = est7_new.predict(X_htest)\n",
    "\n",
    "    \n",
    "print('RMSE test est7_new={:.01f}'.format(mean_squared_error(Y_htest, Y_prd)**0.5))\n",
    "print('R2 test est7_new ={}'.format( r2_score(Y_htest, Y_prd)))"
   ]
  },
  {
   "cell_type": "markdown",
   "metadata": {},
   "source": [
    "### 3.10 Plot out the Y_htest vs Y_prd\n",
    "- using finalized `est5_new`"
   ]
  },
  {
   "cell_type": "code",
   "execution_count": 35,
   "metadata": {
    "ExecuteTime": {
     "end_time": "2021-11-13T02:58:11.080310Z",
     "start_time": "2021-11-13T02:58:04.366782Z"
    }
   },
   "outputs": [
    {
     "data": {
      "text/plain": [
       "<matplotlib.legend.Legend at 0x131cc38dfd0>"
      ]
     },
     "execution_count": 35,
     "metadata": {},
     "output_type": "execute_result"
    },
    {
     "data": {
      "image/png": "[encoded data removed]",
      "text/plain": [
       "<Figure size 720x360 with 1 Axes>"
      ]
     },
     "metadata": {},
     "output_type": "display_data"
    }
   ],
   "source": [
    "f, axs = plt.subplots(1, 1, figsize=(10, 5))\n",
    "est5_new.fit(X_train, Y_train)\n",
    "Y_prd =est5_new.predict(X_htest)\n",
    "\n",
    "sns.histplot(Y_htest, label='true', color='red', kde=True)\n",
    "sns.histplot(Y_prd, label='predicted', kde=True)\n",
    "plt.legend()"
   ]
  },
  {
   "cell_type": "markdown",
   "metadata": {
    "id": "zR7G0L01SKQF"
   },
   "source": [
    "### 3.11 Grid Search\n",
    "Grid search on finalized `est5_new`: random forest regressor:"
   ]
  },
  {
   "cell_type": "code",
   "execution_count": 36,
   "metadata": {
    "ExecuteTime": {
     "end_time": "2021-11-13T02:58:11.095319Z",
     "start_time": "2021-11-13T02:58:11.083296Z"
    },
    "colab": {
     "base_uri": "https://localhost:8080/"
    },
    "id": "z94v4nETSKQF",
    "outputId": "d99c7768-7a7b-4e1e-a96c-db566bec321b"
   },
   "outputs": [],
   "source": [
    "est5_new = Pipeline(steps=[('preprocessor', preprocessor),('feature_sel',SelectKBest(score_func=f_regression, k=11)),\n",
    "                       ('regression', RandomForestRegressor(random_state =0, n_estimators =20))])\n",
    "# est5_new.get_params()"
   ]
  },
  {
   "cell_type": "code",
   "execution_count": 37,
   "metadata": {
    "ExecuteTime": {
     "end_time": "2021-11-13T02:58:11.111423Z",
     "start_time": "2021-11-13T02:58:11.098312Z"
    },
    "id": "MLXwZP9xSKQG"
   },
   "outputs": [],
   "source": [
    "hps = {'preprocessor__colproc__num__strategy': ['mean', 'median'], \n",
    "#                'feature_sel__k':[i for i in range(20,40)],\n",
    "               'feature_sel__k':[5,8,11],\n",
    "               'regression__n_estimators': [20,40,80],\n",
    "      'regression__max_depth':[3,10,None]}"
   ]
  },
  {
   "cell_type": "code",
   "execution_count": 38,
   "metadata": {
    "ExecuteTime": {
     "end_time": "2021-11-13T03:17:19.253324Z",
     "start_time": "2021-11-13T02:58:11.113396Z"
    },
    "colab": {
     "base_uri": "https://localhost:8080/"
    },
    "id": "X13YqOxfSKQG",
    "outputId": "e1201008-b3d3-4d6b-8069-b84cd92575a0"
   },
   "outputs": [
    {
     "name": "stdout",
     "output_type": "stream",
     "text": [
      "Wall time: 19min 8s\n"
     ]
    }
   ],
   "source": [
    "%%time\n",
    "est = GridSearchCV(est5_new, hps, cv=5, scoring=\"neg_mean_squared_error\")\n",
    "est.fit(X, Y)\n",
    "optimal_est = est.best_estimator_"
   ]
  },
  {
   "cell_type": "code",
   "execution_count": 39,
   "metadata": {
    "ExecuteTime": {
     "end_time": "2021-11-13T03:17:19.268480Z",
     "start_time": "2021-11-13T03:17:19.256038Z"
    },
    "colab": {
     "base_uri": "https://localhost:8080/"
    },
    "id": "jSIsYnDWC9D3",
    "outputId": "6355b2ba-5981-484e-903c-77154de60375"
   },
   "outputs": [
    {
     "name": "stdout",
     "output_type": "stream",
     "text": [
      "{'feature_sel__k': 11, 'preprocessor__colproc__num__strategy': 'mean', 'regression__max_depth': None, 'regression__n_estimators': 40}\n"
     ]
    }
   ],
   "source": [
    "print(est.best_params_)"
   ]
  },
  {
   "cell_type": "code",
   "execution_count": 40,
   "metadata": {
    "ExecuteTime": {
     "end_time": "2021-11-13T03:17:19.284526Z",
     "start_time": "2021-11-13T03:17:19.271407Z"
    }
   },
   "outputs": [],
   "source": [
    "optimal_est = Pipeline(steps=[('preprocessor', preprocessor),('feature_sel',SelectKBest(score_func=f_regression, k=11)),\n",
    "                       ('regression', RandomForestRegressor(random_state =0, n_estimators =40,max_depth = None ))])"
   ]
  },
  {
   "cell_type": "code",
   "execution_count": 41,
   "metadata": {
    "ExecuteTime": {
     "end_time": "2021-11-13T03:17:26.135265Z",
     "start_time": "2021-11-13T03:17:19.287447Z"
    }
   },
   "outputs": [
    {
     "name": "stdout",
     "output_type": "stream",
     "text": [
      "Feature: 0, Score: 0.00444 manufactured\n",
      "Feature: 1, Score: 0.01027 curb_weight\n",
      "Feature: 2, Score: 0.00688 power\n",
      "Feature: 3, Score: 0.01924 engine_cap\n",
      "Feature: 4, Score: 0.00127 no_of_owners\n",
      "Feature: 5, Score: 0.03573 depreciation\n",
      "Feature: 6, Score: 0.01195 coe\n",
      "Feature: 7, Score: 0.05607 dereg_value\n",
      "Feature: 8, Score: 0.01049 mileage\n",
      "Feature: 9, Score: 0.08418 reg_date_processed\n",
      "Feature: 10, Score: 0.75948 ARF_calculated\n"
     ]
    },
    {
     "data": {
      "text/plain": [
       "[Text(0, 0, 'manufactured'),\n",
       " Text(1, 0, 'curb_weight'),\n",
       " Text(2, 0, 'power'),\n",
       " Text(3, 0, 'engine_cap'),\n",
       " Text(4, 0, 'no_of_owners'),\n",
       " Text(5, 0, 'depreciation'),\n",
       " Text(6, 0, 'coe'),\n",
       " Text(7, 0, 'dereg_value'),\n",
       " Text(8, 0, 'mileage'),\n",
       " Text(9, 0, 'reg_date_processed'),\n",
       " Text(10, 0, 'ARF_calculated')]"
      ]
     },
     "execution_count": 41,
     "metadata": {},
     "output_type": "execute_result"
    },
    {
     "data": {
      "image/png": "[encoded data removed]",
      "text/plain": [
       "<Figure size 480x320 with 1 Axes>"
      ]
     },
     "metadata": {},
     "output_type": "display_data"
    }
   ],
   "source": [
    "plt.figure(figsize=(6, 4), dpi=80)\n",
    "cols = ['manufactured', 'curb_weight', 'power', 'engine_cap', 'no_of_owners',\n",
    "            'depreciation', 'coe','dereg_value', 'mileage','reg_date_processed','ARF_calculated']\n",
    "optimal_est.fit(X, Y)\n",
    "# get importance\n",
    "importance = optimal_est.steps[2][1].feature_importances_\n",
    "# summarize feature importance\n",
    "for i,v in enumerate(importance):\n",
    "    print('Feature: %0d, Score: %.5f' % (i,v),cols[i])\n",
    "    \n",
    "freq_series = pd.Series(importance)\n",
    "ax =freq_series.plot(kind='bar')\n",
    "\n",
    "ax.set_xlabel('Feature')\n",
    "ax.set_ylabel('Importance')\n",
    "ax.set_xticklabels(cols)"
   ]
  },
  {
   "cell_type": "markdown",
   "metadata": {},
   "source": [
    "## 4. To run the optimized model on entire train data: X,Y"
   ]
  },
  {
   "cell_type": "markdown",
   "metadata": {},
   "source": [
    "### 4.1 Perform the 10 folds validation on the entire training data with `optimal_est` from grid search"
   ]
  },
  {
   "cell_type": "code",
   "execution_count": 42,
   "metadata": {
    "ExecuteTime": {
     "end_time": "2021-11-13T03:18:00.636361Z",
     "start_time": "2021-11-13T03:17:26.137181Z"
    }
   },
   "outputs": [
    {
     "name": "stdout",
     "output_type": "stream",
     "text": [
      "optimal_est, RMSE training = 11035.3 (327.1), RMSE validation = 28473.2 (5033.9)\n"
     ]
    }
   ],
   "source": [
    "# Perform 10-fold cross_validations\n",
    "scores = cross_validate(optimal_est, X, Y, cv=5, scoring='neg_root_mean_squared_error', return_train_score=True)\n",
    "RMSE_train = scores['train_score'] * (-1)\n",
    "RMSE_valid = scores['test_score'] * (-1)\n",
    "\n",
    "print('optimal_est, RMSE training = {:.01f} ({:.01f}), RMSE validation = {:.01f} ({:.01f})'\n",
    "        .format(np.mean(RMSE_train), np.std(RMSE_train), np.mean(RMSE_valid), np.std(RMSE_valid)))"
   ]
  },
  {
   "cell_type": "markdown",
   "metadata": {
    "id": "_Quk5x6ASKQI"
   },
   "source": [
    "### 4.2 To train the `optimal_est` on the entire dataset, and predict on the test data"
   ]
  },
  {
   "cell_type": "code",
   "execution_count": 43,
   "metadata": {
    "ExecuteTime": {
     "end_time": "2021-11-13T03:18:07.931313Z",
     "start_time": "2021-11-13T03:18:00.639243Z"
    },
    "colab": {
     "base_uri": "https://localhost:8080/",
     "height": 438
    },
    "id": "5OJGAbBXSKQJ",
    "outputId": "cf7ae741-052b-41fb-f718-ea26a7c57db2"
   },
   "outputs": [],
   "source": [
    "optimal_est.fit(X, Y)\n",
    "X_test = pd.read_csv('data/test.csv',index_col=0)\n",
    "\n",
    "Y_prd =optimal_est.predict(X_test)\n",
    "\n",
    "submission = pd.read_csv(\"data/example-submission.csv\",\n",
    "                         index_col=[0])\n",
    "submission['Predicted'] = Y_prd\n",
    "submission.to_csv('submission_new_.csv')"
   ]
  }
 ],
 "metadata": {
  "colab": {
   "collapsed_sections": [
    "D-LmyYDlSKP8",
    "K1DX7b7wSKP_",
    "X21mx1aaSKQA",
    "VObKSZYmSKQC",
    "5kMWY4n3SKQD",
    "_4AkwzP9SKQH",
    "EnzI5x7qSKQI"
   ],
   "name": "Project _7_OCT.ipynb",
   "provenance": []
  },
  "kernelspec": {
   "display_name": "Python 3 (ipykernel)",
   "language": "python",
   "name": "python3"
  },
  "language_info": {
   "codemirror_mode": {
    "name": "ipython",
    "version": 3
   },
   "file_extension": ".py",
   "mimetype": "text/x-python",
   "name": "python",
   "nbconvert_exporter": "python",
   "pygments_lexer": "ipython3",
   "version": "3.8.5"
  }
 },
 "nbformat": 4,
 "nbformat_minor": 1
}
