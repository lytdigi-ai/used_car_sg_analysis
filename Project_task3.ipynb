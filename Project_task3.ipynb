{
 "cells": [
  {
   "cell_type": "markdown",
   "metadata": {
    "id": "0IcWXfn-SKPm"
   },
   "source": [
    "# Task 3"
   ]
  },
  {
   "cell_type": "markdown",
   "metadata": {
    "id": "6ZfIjH4QSKPs"
   },
   "source": [
    "## Setting up the notebook"
   ]
  },
  {
   "cell_type": "code",
   "execution_count": 1,
   "metadata": {
    "ExecuteTime": {
     "end_time": "2021-11-09T13:32:56.898318Z",
     "start_time": "2021-11-09T13:32:55.272045Z"
    },
    "id": "OuHhYbqoSKPt"
   },
   "outputs": [],
   "source": [
    "import pandas as pd\n",
    "import numpy as np\n",
    "from sklearn.model_selection import train_test_split, KFold, GridSearchCV\n",
    "import random\n",
    "from sklearn.impute import SimpleImputer\n",
    "from sklearn.compose import ColumnTransformer\n",
    "from sklearn.pipeline import Pipeline\n",
    "from sklearn.preprocessing import StandardScaler, OneHotEncoder, OrdinalEncoder\n",
    "from sklearn.feature_selection import SelectKBest\n",
    "from sklearn.decomposition import PCA\n",
    "from sklearn import tree\n",
    "from sklearn.base import BaseEstimator, TransformerMixin\n",
    "from sklearn.utils import resample\n",
    "from sklearn.metrics import plot_confusion_matrix, classification_report, accuracy_score, confusion_matrix, roc_auc_score, roc_curve\n",
    "import matplotlib.pyplot as plt\n",
    "import seaborn as sns\n",
    "from sklearn.linear_model import LinearRegression,RidgeCV, SGDRegressor\n",
    "from sklearn.tree import DecisionTreeRegressor\n",
    "from sklearn.neighbors import KNeighborsRegressor\n",
    "from sklearn.metrics import r2_score, mean_squared_error\n",
    "from sklearn.model_selection import cross_val_score, cross_validate\n",
    "\n",
    "%matplotlib inline\n",
    "sns.set_theme()\n",
    "\n",
    "import warnings\n",
    "warnings.filterwarnings(\"ignore\")"
   ]
  },
  {
   "cell_type": "markdown",
   "metadata": {
    "id": "xajFmdg5SKPv"
   },
   "source": [
    "## 1. Data Preparation"
   ]
  },
  {
   "cell_type": "markdown",
   "metadata": {
    "id": "D_QtVhxWSKPw"
   },
   "source": [
    "### 1.1 Loading the Data\n",
    "Load the train data set"
   ]
  },
  {
   "cell_type": "code",
   "execution_count": 2,
   "metadata": {
    "ExecuteTime": {
     "end_time": "2021-11-09T13:32:58.824490Z",
     "start_time": "2021-11-09T13:32:58.562192Z"
    },
    "colab": {
     "base_uri": "https://localhost:8080/",
     "height": 0
    },
    "id": "WaijJtwySKPx",
    "outputId": "b80d66c1-573b-4ef7-81cf-f6d61693c713"
   },
   "outputs": [],
   "source": [
    "df1 = pd.read_csv('data/train.csv')\n",
    "df2 = pd.read_csv('data/test.csv')\n",
    "df3 = pd.read_csv('data/example-submission.csv')"
   ]
  },
  {
   "cell_type": "code",
   "execution_count": 3,
   "metadata": {},
   "outputs": [
    {
     "data": {
      "text/plain": [
       "(16784, 30)"
      ]
     },
     "execution_count": 3,
     "metadata": {},
     "output_type": "execute_result"
    }
   ],
   "source": [
    "df1.shape"
   ]
  },
  {
   "cell_type": "code",
   "execution_count": 4,
   "metadata": {},
   "outputs": [
    {
     "data": {
      "text/plain": [
       "(5000, 30)"
      ]
     },
     "execution_count": 4,
     "metadata": {},
     "output_type": "execute_result"
    }
   ],
   "source": [
    "df2['price']= df3['Predicted']\n",
    "df2.shape"
   ]
  },
  {
   "cell_type": "code",
   "execution_count": 5,
   "metadata": {},
   "outputs": [],
   "source": [
    "df = pd.concat([df1,df2],axis=0)"
   ]
  },
  {
   "cell_type": "code",
   "execution_count": 6,
   "metadata": {},
   "outputs": [
    {
     "data": {
      "text/plain": [
       "(21784, 30)"
      ]
     },
     "execution_count": 6,
     "metadata": {},
     "output_type": "execute_result"
    }
   ],
   "source": [
    "df.shape"
   ]
  },
  {
   "cell_type": "code",
   "execution_count": 7,
   "metadata": {
    "ExecuteTime": {
     "end_time": "2021-11-09T13:33:00.752302Z",
     "start_time": "2021-11-09T13:33:00.736331Z"
    },
    "colab": {
     "base_uri": "https://localhost:8080/"
    },
    "id": "b5dHgN5fSKPy",
    "outputId": "549ecb55-0125-4904-a6d7-a33405b86b67"
   },
   "outputs": [
    {
     "name": "stdout",
     "output_type": "stream",
     "text": [
      "There are 21784 data points, each with 30 attributes.\n"
     ]
    }
   ],
   "source": [
    "num_points, num_attributes = df.shape\n",
    "print(\"There are {} data points, each with {} attributes.\". format(num_points, num_attributes))"
   ]
  },
  {
   "cell_type": "code",
   "execution_count": 8,
   "metadata": {
    "ExecuteTime": {
     "end_time": "2021-11-09T13:33:02.710776Z",
     "start_time": "2021-11-09T13:33:02.687835Z"
    },
    "colab": {
     "base_uri": "https://localhost:8080/"
    },
    "id": "nr_GZ5PSSKPz",
    "outputId": "eff89aa1-2322-4bdc-f374-d7e477384f6e"
   },
   "outputs": [
    {
     "data": {
      "text/plain": [
       "listing_id             int64\n",
       "title                 object\n",
       "make                  object\n",
       "model                 object\n",
       "description           object\n",
       "manufactured         float64\n",
       "original_reg_date     object\n",
       "reg_date              object\n",
       "type_of_vehicle       object\n",
       "category              object\n",
       "transmission          object\n",
       "curb_weight          float64\n",
       "power                float64\n",
       "fuel_type             object\n",
       "engine_cap           float64\n",
       "no_of_owners         float64\n",
       "depreciation         float64\n",
       "coe                  float64\n",
       "road_tax             float64\n",
       "dereg_value          float64\n",
       "mileage              float64\n",
       "omv                  float64\n",
       "arf                  float64\n",
       "opc_scheme            object\n",
       "lifespan              object\n",
       "eco_category          object\n",
       "features              object\n",
       "accessories           object\n",
       "indicative_price     float64\n",
       "price                float64\n",
       "dtype: object"
      ]
     },
     "execution_count": 8,
     "metadata": {},
     "output_type": "execute_result"
    }
   ],
   "source": [
    "df.dtypes "
   ]
  },
  {
   "cell_type": "code",
   "execution_count": 9,
   "metadata": {
    "ExecuteTime": {
     "end_time": "2021-11-09T13:33:04.816800Z",
     "start_time": "2021-11-09T13:33:04.799843Z"
    },
    "id": "Mr-4KWPKSKP0"
   },
   "outputs": [],
   "source": [
    "col_cat = df.dtypes[df.dtypes=='object'].index\n",
    "col_num = df.dtypes[(df.dtypes=='int64') | (df.dtypes=='float64')].index"
   ]
  },
  {
   "cell_type": "code",
   "execution_count": 10,
   "metadata": {
    "ExecuteTime": {
     "end_time": "2021-11-09T13:33:09.392016Z",
     "start_time": "2021-11-09T13:33:09.375064Z"
    },
    "colab": {
     "base_uri": "https://localhost:8080/"
    },
    "id": "3mQpx3t8SKP1",
    "outputId": "42af16aa-f321-4b46-ec33-4e02a9be566e"
   },
   "outputs": [
    {
     "data": {
      "text/plain": [
       "Index(['title', 'make', 'model', 'description', 'original_reg_date',\n",
       "       'reg_date', 'type_of_vehicle', 'category', 'transmission', 'fuel_type',\n",
       "       'opc_scheme', 'lifespan', 'eco_category', 'features', 'accessories'],\n",
       "      dtype='object')"
      ]
     },
     "execution_count": 10,
     "metadata": {},
     "output_type": "execute_result"
    }
   ],
   "source": [
    "# to display all the categorical columns\n",
    "col_cat "
   ]
  },
  {
   "cell_type": "code",
   "execution_count": 11,
   "metadata": {
    "ExecuteTime": {
     "end_time": "2021-11-09T13:33:10.784815Z",
     "start_time": "2021-11-09T13:33:10.766826Z"
    },
    "colab": {
     "base_uri": "https://localhost:8080/"
    },
    "id": "OZFE9tOaSKP2",
    "outputId": "e662424c-a6ab-40e1-8e13-fbe4cea00c10"
   },
   "outputs": [
    {
     "data": {
      "text/plain": [
       "Index(['listing_id', 'manufactured', 'curb_weight', 'power', 'engine_cap',\n",
       "       'no_of_owners', 'depreciation', 'coe', 'road_tax', 'dereg_value',\n",
       "       'mileage', 'omv', 'arf', 'indicative_price', 'price'],\n",
       "      dtype='object')"
      ]
     },
     "execution_count": 11,
     "metadata": {},
     "output_type": "execute_result"
    }
   ],
   "source": [
    "# to display all the numerical columns\n",
    "col_num "
   ]
  },
  {
   "cell_type": "code",
   "execution_count": 12,
   "metadata": {
    "ExecuteTime": {
     "end_time": "2021-11-09T13:33:12.163388Z",
     "start_time": "2021-11-09T13:33:12.079502Z"
    },
    "colab": {
     "base_uri": "https://localhost:8080/",
     "height": 0
    },
    "id": "NtPntcL0SKP3",
    "outputId": "4f393629-6737-4a3a-a3fa-5be070ee6c26"
   },
   "outputs": [
    {
     "data": {
      "text/html": [
       "<div>\n",
       "<style scoped>\n",
       "    .dataframe tbody tr th:only-of-type {\n",
       "        vertical-align: middle;\n",
       "    }\n",
       "\n",
       "    .dataframe tbody tr th {\n",
       "        vertical-align: top;\n",
       "    }\n",
       "\n",
       "    .dataframe thead th {\n",
       "        text-align: right;\n",
       "    }\n",
       "</style>\n",
       "<table border=\"1\" class=\"dataframe\">\n",
       "  <thead>\n",
       "    <tr style=\"text-align: right;\">\n",
       "      <th></th>\n",
       "      <th>listing_id</th>\n",
       "      <th>manufactured</th>\n",
       "      <th>curb_weight</th>\n",
       "      <th>power</th>\n",
       "      <th>engine_cap</th>\n",
       "      <th>no_of_owners</th>\n",
       "      <th>depreciation</th>\n",
       "      <th>coe</th>\n",
       "      <th>road_tax</th>\n",
       "      <th>dereg_value</th>\n",
       "      <th>mileage</th>\n",
       "      <th>omv</th>\n",
       "      <th>arf</th>\n",
       "      <th>indicative_price</th>\n",
       "      <th>price</th>\n",
       "    </tr>\n",
       "  </thead>\n",
       "  <tbody>\n",
       "    <tr>\n",
       "      <th>count</th>\n",
       "      <td>2.178400e+04</td>\n",
       "      <td>21529.000000</td>\n",
       "      <td>21049.000000</td>\n",
       "      <td>18772.000000</td>\n",
       "      <td>21716.000000</td>\n",
       "      <td>21552.000000</td>\n",
       "      <td>21219.000000</td>\n",
       "      <td>20648.000000</td>\n",
       "      <td>18996.000000</td>\n",
       "      <td>20260.000000</td>\n",
       "      <td>16916.000000</td>\n",
       "      <td>2.173100e+04</td>\n",
       "      <td>2.141300e+04</td>\n",
       "      <td>0.0</td>\n",
       "      <td>2.178400e+04</td>\n",
       "    </tr>\n",
       "    <tr>\n",
       "      <th>mean</th>\n",
       "      <td>1.009853e+06</td>\n",
       "      <td>2014.184820</td>\n",
       "      <td>1553.647537</td>\n",
       "      <td>133.787104</td>\n",
       "      <td>2083.376543</td>\n",
       "      <td>2.034289</td>\n",
       "      <td>14476.133183</td>\n",
       "      <td>41384.488038</td>\n",
       "      <td>1354.396294</td>\n",
       "      <td>44138.952270</td>\n",
       "      <td>72712.078801</td>\n",
       "      <td>3.875845e+04</td>\n",
       "      <td>3.844564e+04</td>\n",
       "      <td>NaN</td>\n",
       "      <td>1.121255e+05</td>\n",
       "    </tr>\n",
       "    <tr>\n",
       "      <th>std</th>\n",
       "      <td>2.573981e+04</td>\n",
       "      <td>8.116601</td>\n",
       "      <td>806.180899</td>\n",
       "      <td>73.994166</td>\n",
       "      <td>1126.884124</td>\n",
       "      <td>1.360118</td>\n",
       "      <td>19476.448225</td>\n",
       "      <td>16550.446394</td>\n",
       "      <td>1175.650892</td>\n",
       "      <td>42828.273169</td>\n",
       "      <td>50936.032499</td>\n",
       "      <td>4.383873e+04</td>\n",
       "      <td>5.959812e+04</td>\n",
       "      <td>NaN</td>\n",
       "      <td>1.347167e+05</td>\n",
       "    </tr>\n",
       "    <tr>\n",
       "      <th>min</th>\n",
       "      <td>3.652410e+05</td>\n",
       "      <td>1933.000000</td>\n",
       "      <td>2.000000</td>\n",
       "      <td>38.000000</td>\n",
       "      <td>0.000000</td>\n",
       "      <td>1.000000</td>\n",
       "      <td>2680.000000</td>\n",
       "      <td>10.000000</td>\n",
       "      <td>50.000000</td>\n",
       "      <td>97.000000</td>\n",
       "      <td>1.000000</td>\n",
       "      <td>8.880000e+02</td>\n",
       "      <td>4.400000e+01</td>\n",
       "      <td>NaN</td>\n",
       "      <td>2.100000e+03</td>\n",
       "    </tr>\n",
       "    <tr>\n",
       "      <th>25%</th>\n",
       "      <td>1.002398e+06</td>\n",
       "      <td>2011.000000</td>\n",
       "      <td>1280.000000</td>\n",
       "      <td>90.000000</td>\n",
       "      <td>1498.000000</td>\n",
       "      <td>1.000000</td>\n",
       "      <td>8640.000000</td>\n",
       "      <td>31335.000000</td>\n",
       "      <td>684.000000</td>\n",
       "      <td>24927.500000</td>\n",
       "      <td>33000.000000</td>\n",
       "      <td>1.917800e+04</td>\n",
       "      <td>1.263100e+04</td>\n",
       "      <td>NaN</td>\n",
       "      <td>5.480000e+04</td>\n",
       "    </tr>\n",
       "    <tr>\n",
       "      <th>50%</th>\n",
       "      <td>1.017470e+06</td>\n",
       "      <td>2016.000000</td>\n",
       "      <td>1440.000000</td>\n",
       "      <td>110.000000</td>\n",
       "      <td>1797.000000</td>\n",
       "      <td>2.000000</td>\n",
       "      <td>10610.000000</td>\n",
       "      <td>40690.000000</td>\n",
       "      <td>976.000000</td>\n",
       "      <td>35620.000000</td>\n",
       "      <td>66000.000000</td>\n",
       "      <td>2.708400e+04</td>\n",
       "      <td>2.174700e+04</td>\n",
       "      <td>NaN</td>\n",
       "      <td>7.900000e+04</td>\n",
       "    </tr>\n",
       "    <tr>\n",
       "      <th>75%</th>\n",
       "      <td>1.025188e+06</td>\n",
       "      <td>2018.000000</td>\n",
       "      <td>1680.000000</td>\n",
       "      <td>147.000000</td>\n",
       "      <td>2356.000000</td>\n",
       "      <td>3.000000</td>\n",
       "      <td>14835.000000</td>\n",
       "      <td>51600.000000</td>\n",
       "      <td>1369.000000</td>\n",
       "      <td>50312.500000</td>\n",
       "      <td>104739.250000</td>\n",
       "      <td>4.044050e+04</td>\n",
       "      <td>4.247600e+04</td>\n",
       "      <td>NaN</td>\n",
       "      <td>1.209000e+05</td>\n",
       "    </tr>\n",
       "    <tr>\n",
       "      <th>max</th>\n",
       "      <td>1.031325e+06</td>\n",
       "      <td>2925.000000</td>\n",
       "      <td>20980.000000</td>\n",
       "      <td>735.000000</td>\n",
       "      <td>15681.000000</td>\n",
       "      <td>6.000000</td>\n",
       "      <td>865610.000000</td>\n",
       "      <td>97889.000000</td>\n",
       "      <td>12375.000000</td>\n",
       "      <td>786967.000000</td>\n",
       "      <td>740459.000000</td>\n",
       "      <td>1.150000e+06</td>\n",
       "      <td>1.083350e+06</td>\n",
       "      <td>NaN</td>\n",
       "      <td>2.920500e+06</td>\n",
       "    </tr>\n",
       "  </tbody>\n",
       "</table>\n",
       "</div>"
      ],
      "text/plain": [
       "         listing_id  manufactured   curb_weight         power    engine_cap  \\\n",
       "count  2.178400e+04  21529.000000  21049.000000  18772.000000  21716.000000   \n",
       "mean   1.009853e+06   2014.184820   1553.647537    133.787104   2083.376543   \n",
       "std    2.573981e+04      8.116601    806.180899     73.994166   1126.884124   \n",
       "min    3.652410e+05   1933.000000      2.000000     38.000000      0.000000   \n",
       "25%    1.002398e+06   2011.000000   1280.000000     90.000000   1498.000000   \n",
       "50%    1.017470e+06   2016.000000   1440.000000    110.000000   1797.000000   \n",
       "75%    1.025188e+06   2018.000000   1680.000000    147.000000   2356.000000   \n",
       "max    1.031325e+06   2925.000000  20980.000000    735.000000  15681.000000   \n",
       "\n",
       "       no_of_owners   depreciation           coe      road_tax    dereg_value  \\\n",
       "count  21552.000000   21219.000000  20648.000000  18996.000000   20260.000000   \n",
       "mean       2.034289   14476.133183  41384.488038   1354.396294   44138.952270   \n",
       "std        1.360118   19476.448225  16550.446394   1175.650892   42828.273169   \n",
       "min        1.000000    2680.000000     10.000000     50.000000      97.000000   \n",
       "25%        1.000000    8640.000000  31335.000000    684.000000   24927.500000   \n",
       "50%        2.000000   10610.000000  40690.000000    976.000000   35620.000000   \n",
       "75%        3.000000   14835.000000  51600.000000   1369.000000   50312.500000   \n",
       "max        6.000000  865610.000000  97889.000000  12375.000000  786967.000000   \n",
       "\n",
       "             mileage           omv           arf  indicative_price  \\\n",
       "count   16916.000000  2.173100e+04  2.141300e+04               0.0   \n",
       "mean    72712.078801  3.875845e+04  3.844564e+04               NaN   \n",
       "std     50936.032499  4.383873e+04  5.959812e+04               NaN   \n",
       "min         1.000000  8.880000e+02  4.400000e+01               NaN   \n",
       "25%     33000.000000  1.917800e+04  1.263100e+04               NaN   \n",
       "50%     66000.000000  2.708400e+04  2.174700e+04               NaN   \n",
       "75%    104739.250000  4.044050e+04  4.247600e+04               NaN   \n",
       "max    740459.000000  1.150000e+06  1.083350e+06               NaN   \n",
       "\n",
       "              price  \n",
       "count  2.178400e+04  \n",
       "mean   1.121255e+05  \n",
       "std    1.347167e+05  \n",
       "min    2.100000e+03  \n",
       "25%    5.480000e+04  \n",
       "50%    7.900000e+04  \n",
       "75%    1.209000e+05  \n",
       "max    2.920500e+06  "
      ]
     },
     "execution_count": 12,
     "metadata": {},
     "output_type": "execute_result"
    }
   ],
   "source": [
    "# to summarize the numerical data\n",
    "df.describe()"
   ]
  },
  {
   "cell_type": "markdown",
   "metadata": {
    "id": "ZljuTCpTSKP4"
   },
   "source": [
    "## 2. Exploratory data analysis"
   ]
  },
  {
   "cell_type": "markdown",
   "metadata": {
    "id": "olW58yN8SKP4"
   },
   "source": [
    "### 2.1 Missing Values\n",
    "\n",
    "First to find all rows that have at least 1 NA value in any column.\n",
    "- Finding: all the rows contains at least 1 empty entry"
   ]
  },
  {
   "cell_type": "code",
   "execution_count": 13,
   "metadata": {
    "ExecuteTime": {
     "end_time": "2021-11-09T13:33:13.961454Z",
     "start_time": "2021-11-09T13:33:13.927548Z"
    },
    "colab": {
     "base_uri": "https://localhost:8080/"
    },
    "id": "3WFStQ8FSKP5",
    "outputId": "715b7cc2-d83c-4069-b636-9a9782f7ecc4"
   },
   "outputs": [
    {
     "name": "stdout",
     "output_type": "stream",
     "text": [
      "There are 21784 data points that have at least 1 missing value (NA)\n"
     ]
    }
   ],
   "source": [
    "row_has_na = df.isna().any(axis=1)\n",
    "\n",
    "df_na = df[row_has_na]\n",
    "\n",
    "print(\"There are {} data points that have at least 1 missing value (NA)\".format(df_na.shape[0]))"
   ]
  },
  {
   "cell_type": "markdown",
   "metadata": {
    "id": "lTp3KRpHSKP5"
   },
   "source": [
    "### 2.2 Check for Collinearity\n",
    "\n",
    "- Drop the `indicative_price` column as it has all NA rows\n",
    "- Filter the numerical features"
   ]
  },
  {
   "cell_type": "code",
   "execution_count": 14,
   "metadata": {
    "ExecuteTime": {
     "end_time": "2021-11-09T13:33:16.066507Z",
     "start_time": "2021-11-09T13:33:16.047517Z"
    },
    "colab": {
     "base_uri": "https://localhost:8080/"
    },
    "id": "e4uhGBV7SKP5",
    "outputId": "9d69dcd8-6718-4839-9c94-e0732cdd593b"
   },
   "outputs": [
    {
     "data": {
      "text/plain": [
       "14"
      ]
     },
     "execution_count": 14,
     "metadata": {},
     "output_type": "execute_result"
    }
   ],
   "source": [
    "col_num =df.dtypes[(df.dtypes=='int64') | (df.dtypes=='float64')].index \n",
    "col_num = list(col_num)\n",
    "col_num.remove('indicative_price')\n",
    "len(col_num)"
   ]
  },
  {
   "cell_type": "code",
   "execution_count": 15,
   "metadata": {
    "ExecuteTime": {
     "end_time": "2021-11-09T13:33:17.509057Z",
     "start_time": "2021-11-09T13:33:17.497084Z"
    }
   },
   "outputs": [
    {
     "data": {
      "text/plain": [
       "['listing_id',\n",
       " 'manufactured',\n",
       " 'curb_weight',\n",
       " 'power',\n",
       " 'engine_cap',\n",
       " 'no_of_owners',\n",
       " 'depreciation',\n",
       " 'coe',\n",
       " 'road_tax',\n",
       " 'dereg_value',\n",
       " 'mileage',\n",
       " 'omv',\n",
       " 'arf',\n",
       " 'price']"
      ]
     },
     "execution_count": 15,
     "metadata": {},
     "output_type": "execute_result"
    }
   ],
   "source": [
    "col_num"
   ]
  },
  {
   "cell_type": "markdown",
   "metadata": {
    "id": "VQQXTNWYSKP6"
   },
   "source": [
    "#### 2.2.1 Plot the distribution of all the numeric features\n"
   ]
  },
  {
   "cell_type": "code",
   "execution_count": 16,
   "metadata": {
    "ExecuteTime": {
     "end_time": "2021-11-09T13:33:31.523354Z",
     "start_time": "2021-11-09T13:33:28.679795Z"
    }
   },
   "outputs": [
    {
     "data": {
      "image/png": "[encoded data removed]",
      "text/plain": [
       "<Figure size 1080x1080 with 15 Axes>"
      ]
     },
     "metadata": {},
     "output_type": "display_data"
    }
   ],
   "source": [
    "fig, axs = plt.subplots(5, 3, figsize=(15,15))\n",
    "rowPosn = 0\n",
    "colPosn = 0\n",
    "\n",
    "def addPosn():\n",
    "    global colPosn\n",
    "    colPosn+=1\n",
    "    if colPosn > 2:\n",
    "        colPosn = 0\n",
    "        global rowPosn\n",
    "        rowPosn+=1\n",
    "    \n",
    "for col in col_num:\n",
    "    axs[rowPosn,colPosn].hist(df[col])\n",
    "    axs[rowPosn,colPosn].set_xlabel(col, fontsize=16)\n",
    "    axs[rowPosn,colPosn].set_ylabel('count', fontsize=16)\n",
    "    addPosn()\n",
    "\n",
    "fig.suptitle(\"Distribution of Numeric feature\", y=1, fontsize='xx-large')\n",
    "fig.tight_layout()"
   ]
  },
  {
   "cell_type": "markdown",
   "metadata": {
    "id": "4vAF9c0QSKP7"
   },
   "source": [
    "#### 2.2.2 To plot the heatmap for correlation"
   ]
  },
  {
   "cell_type": "code",
   "execution_count": 17,
   "metadata": {
    "ExecuteTime": {
     "end_time": "2021-11-09T13:33:38.356693Z",
     "start_time": "2021-11-09T13:33:36.959986Z"
    },
    "colab": {
     "base_uri": "https://localhost:8080/",
     "height": 0
    },
    "id": "3EDOtK-sSKP8",
    "outputId": "dc297346-4a08-476b-fce0-baaa0cdcacba"
   },
   "outputs": [
    {
     "data": {
      "text/plain": [
       "<AxesSubplot:>"
      ]
     },
     "execution_count": 17,
     "metadata": {},
     "output_type": "execute_result"
    },
    {
     "data": {
      "image/png": "[encoded data removed]",
      "text/plain": [
       "<Figure size 720x720 with 2 Axes>"
      ]
     },
     "metadata": {},
     "output_type": "display_data"
    }
   ],
   "source": [
    "df_col_num = df[col_num]\n",
    "f, axs = plt.subplots(1, 1, figsize=(10, 10))\n",
    "sns.heatmap(df_col_num.corr(), cmap='seismic', vmin=-1, vmax=1, annot=True)\n"
   ]
  },
  {
   "cell_type": "markdown",
   "metadata": {},
   "source": [
    "#### 2.2.3 To show all the collinearity >0.8\n",
    "Create functions to rank top collinearities, ref: https://stackoverflow.com/questions/17778394/list-highest-correlation-pairs-from-a-large-correlation-matrix-in-pandas.\n",
    "\n",
    "We can see that: collinearity: R2>0.9\n",
    "- `omv`~`arf`: 0.938438\n",
    "- `road_tax`~`engine_cap`: 0.966132\n"
   ]
  },
  {
   "cell_type": "code",
   "execution_count": 18,
   "metadata": {
    "ExecuteTime": {
     "end_time": "2021-11-09T13:33:42.085827Z",
     "start_time": "2021-11-09T13:33:42.072866Z"
    }
   },
   "outputs": [],
   "source": [
    "def get_redundant_pairs(df):\n",
    "    '''Get diagonal and lower triangular pairs of correlation matrix'''\n",
    "    pairs_to_drop = set()\n",
    "    cols = df.columns\n",
    "    for i in range(0, df.shape[1]):\n",
    "        for j in range(0, i+1):\n",
    "            pairs_to_drop.add((cols[i], cols[j]))\n",
    "    return pairs_to_drop\n",
    "\n",
    "def get_top_abs_correlations(df):\n",
    "    au_corr = df.corr().abs().unstack()\n",
    "    labels_to_drop = get_redundant_pairs(df)\n",
    "    au_corr = au_corr.drop(labels=labels_to_drop).sort_values(ascending=False)\n",
    "    return au_corr[(au_corr>0.8)]\n"
   ]
  },
  {
   "cell_type": "code",
   "execution_count": 19,
   "metadata": {
    "ExecuteTime": {
     "end_time": "2021-11-09T13:33:43.504249Z",
     "start_time": "2021-11-09T13:33:43.464372Z"
    }
   },
   "outputs": [
    {
     "name": "stdout",
     "output_type": "stream",
     "text": [
      "Top Absolute Correlations\n",
      "engine_cap   road_tax      0.964834\n",
      "omv          arf           0.938835\n",
      "power        engine_cap    0.883397\n",
      "dereg_value  price         0.880036\n",
      "arf          price         0.872913\n",
      "dereg_value  arf           0.854989\n",
      "power        omv           0.848051\n",
      "             road_tax      0.842791\n",
      "             arf           0.838346\n",
      "road_tax     omv           0.810891\n",
      "curb_weight  engine_cap    0.805207\n",
      "dtype: float64\n"
     ]
    }
   ],
   "source": [
    "print(\"Top Absolute Correlations\")\n",
    "print(get_top_abs_correlations(df_col_num ))"
   ]
  },
  {
   "cell_type": "markdown",
   "metadata": {
    "id": "qo-5MzzUSKP9"
   },
   "source": [
    "## 3. Feature Selection"
   ]
  },
  {
   "cell_type": "markdown",
   "metadata": {
    "id": "X21mx1aaSKQA"
   },
   "source": [
    "### 3.1 Selection\n",
    "\n",
    "**Features to keep:**\n",
    "\n",
    "numerical columns:\n",
    "- `manufactured`\n",
    "- `curb_weight`\n",
    "- `power`\n",
    "- `engine_cap` \n",
    "- `no_of_owners`\n",
    "- `depreciation` \n",
    "- `coe`\n",
    "- `dereg_value`\n",
    "- `mileage`\n",
    "- `omv`\n",
    "- `reg_date_processed` (to be created)\n",
    "\n",
    "categorical columns:\n",
    "- `type_of_vehicle`\n",
    "- `transmission`\n",
    "- `manufacturer`(to be created)\n",
    "\n",
    "\n",
    "**Feathures to drop:**\n",
    "- `omv` &`arf`: as a new feature `ARF_calculated` is created\n",
    "- `road_tax`: as collinear with `engine_cap`\n",
    "- `model`: categorical feature contains 692 unique values that not helpful for regression \n",
    "- `title`: categorical feature contains 5775 unique values that not helpful for regression\n",
    "- `make`: new feature `manufacturer`will be created to replace `make`\n",
    "- `description`: drop as too much content that requires further processing. \n",
    "- `original_reg_date`: drop as new feature `reg_date_processed` is created\n",
    "- `reg_date`: drop as new feature `reg_date_processed` is created\n",
    "- `category`: drop as too much content that requires further processing.\n",
    "- `fuel_type`: 79% are null\n",
    "- `opc_scheme`: 99% are null\n",
    "- `lifespan`: 90% are null\n",
    "- `eco_category`: only 1 unique value, not meaningful\n",
    "- `features`: drop as too much content that requires further processing.\n",
    "- `accessories`: drop as too much content that requires further processing.\n",
    "- `indicative_price`: 100% are null"
   ]
  },
  {
   "cell_type": "markdown",
   "metadata": {},
   "source": [
    "from task 1, we can see that `original_reg_date`, `fuel_type`, `opc_scheme`, `lifespan`, `indicative_price` are with high percentage of empty entry"
   ]
  },
  {
   "cell_type": "code",
   "execution_count": 20,
   "metadata": {
    "ExecuteTime": {
     "end_time": "2021-11-09T13:34:08.794448Z",
     "start_time": "2021-11-09T13:34:08.769513Z"
    },
    "id": "08EyJ7e6SKQB"
   },
   "outputs": [],
   "source": [
    "class FeatureCreator(BaseEstimator,TransformerMixin):\n",
    "    def __init__(self):\n",
    "        return\n",
    "        \n",
    "    def fit(self, X, y=None, **fit_params):\n",
    "        return self\n",
    "        \n",
    "    def transform(self, X, y=None, **fit_params):\n",
    "        self.X = X.copy()\n",
    "\n",
    "        self.X['reg_date_processed'] = np.where(self.X['reg_date'].isnull(), self.X['original_reg_date'],self.X['reg_date'] )            \n",
    "        \n",
    "        self.X['reg_date_processed'] = pd.to_datetime(\"4-Oct-2021\").date() - pd.to_datetime(self.X['reg_date_processed']).dt.date\n",
    "        self.X['reg_date_processed'] = self.X['reg_date_processed'].dt.days/365\n",
    "        \n",
    "        conditions = [\n",
    "            self.X['omv'] <= 20000,\n",
    "            (self.X['omv'] > 20000) & (self.X['omv'] <=50000),\n",
    "            self.X['omv'] > 50000\n",
    "        ]\n",
    "\n",
    "        values = [\n",
    "            self.X['omv'],\n",
    "            ((self.X['omv']-20000)*1.4+20000),\n",
    "            ((self.X['omv']-50000)*1.8+62000)\n",
    "        ]\n",
    "\n",
    "        self.X['ARF_calculated'] = np.select(conditions, values, default=0)\n",
    "        \n",
    "        self.X['ARF_calculated'] = np.where(self.X['arf'].isnull(), self.X['ARF_calculated'],self.X['arf'] ) \n",
    "        \n",
    "        self.X['manufacturer'] = self.X['title'].str.split().str[0]\n",
    "    \n",
    "        return self.X "
   ]
  },
  {
   "cell_type": "code",
   "execution_count": 21,
   "metadata": {
    "ExecuteTime": {
     "end_time": "2021-11-09T13:34:15.116279Z",
     "start_time": "2021-11-09T13:34:13.465685Z"
    },
    "colab": {
     "base_uri": "https://localhost:8080/",
     "height": 0
    },
    "id": "ShRz4mMdSKQB",
    "outputId": "d4b1b439-455c-4540-c237-cd9039305fa0"
   },
   "outputs": [
    {
     "data": {
      "text/html": [
       "<div>\n",
       "<style scoped>\n",
       "    .dataframe tbody tr th:only-of-type {\n",
       "        vertical-align: middle;\n",
       "    }\n",
       "\n",
       "    .dataframe tbody tr th {\n",
       "        vertical-align: top;\n",
       "    }\n",
       "\n",
       "    .dataframe thead th {\n",
       "        text-align: right;\n",
       "    }\n",
       "</style>\n",
       "<table border=\"1\" class=\"dataframe\">\n",
       "  <thead>\n",
       "    <tr style=\"text-align: right;\">\n",
       "      <th></th>\n",
       "      <th>listing_id</th>\n",
       "      <th>title</th>\n",
       "      <th>make</th>\n",
       "      <th>model</th>\n",
       "      <th>description</th>\n",
       "      <th>manufactured</th>\n",
       "      <th>original_reg_date</th>\n",
       "      <th>reg_date</th>\n",
       "      <th>type_of_vehicle</th>\n",
       "      <th>category</th>\n",
       "      <th>...</th>\n",
       "      <th>opc_scheme</th>\n",
       "      <th>lifespan</th>\n",
       "      <th>eco_category</th>\n",
       "      <th>features</th>\n",
       "      <th>accessories</th>\n",
       "      <th>indicative_price</th>\n",
       "      <th>price</th>\n",
       "      <th>reg_date_processed</th>\n",
       "      <th>ARF_calculated</th>\n",
       "      <th>manufacturer</th>\n",
       "    </tr>\n",
       "  </thead>\n",
       "  <tbody>\n",
       "    <tr>\n",
       "      <th>0</th>\n",
       "      <td>1030324</td>\n",
       "      <td>BMW 3 Series 320i Gran Turismo M-Sport</td>\n",
       "      <td>bmw</td>\n",
       "      <td>320i</td>\n",
       "      <td>1 owner! 320i gt m-sports model! big brake kit...</td>\n",
       "      <td>2013.0</td>\n",
       "      <td>NaN</td>\n",
       "      <td>09-dec-2013</td>\n",
       "      <td>luxury sedan</td>\n",
       "      <td>parf car, premium ad car, low mileage car</td>\n",
       "      <td>...</td>\n",
       "      <td>NaN</td>\n",
       "      <td>NaN</td>\n",
       "      <td>uncategorized</td>\n",
       "      <td>5 doors gt, powerful and fuel efficient 2.0l t...</td>\n",
       "      <td>bmw i-drive, navigation, bluetooth/aux/usb inp...</td>\n",
       "      <td>NaN</td>\n",
       "      <td>71300.0</td>\n",
       "      <td>7.824658</td>\n",
       "      <td>50462.0</td>\n",
       "      <td>BMW</td>\n",
       "    </tr>\n",
       "    <tr>\n",
       "      <th>1</th>\n",
       "      <td>1021510</td>\n",
       "      <td>Toyota Hiace 3.0M</td>\n",
       "      <td>NaN</td>\n",
       "      <td>hiace</td>\n",
       "      <td>high loan available! low mileage unit. wear an...</td>\n",
       "      <td>2014.0</td>\n",
       "      <td>NaN</td>\n",
       "      <td>26-jan-2015</td>\n",
       "      <td>van</td>\n",
       "      <td>premium ad car</td>\n",
       "      <td>...</td>\n",
       "      <td>NaN</td>\n",
       "      <td>25-jan-2035</td>\n",
       "      <td>uncategorized</td>\n",
       "      <td>low mileage unit. well maintained vehicle. vie...</td>\n",
       "      <td>factory radio setting. front recording camera....</td>\n",
       "      <td>NaN</td>\n",
       "      <td>43800.0</td>\n",
       "      <td>6.693151</td>\n",
       "      <td>1376.0</td>\n",
       "      <td>Toyota</td>\n",
       "    </tr>\n",
       "    <tr>\n",
       "      <th>2</th>\n",
       "      <td>1026909</td>\n",
       "      <td>Mercedes-Benz CLA-Class CLA180</td>\n",
       "      <td>mercedes-benz</td>\n",
       "      <td>cla180</td>\n",
       "      <td>1 owner c&amp;c unit. full agent service with 1 mo...</td>\n",
       "      <td>2016.0</td>\n",
       "      <td>NaN</td>\n",
       "      <td>25-jul-2016</td>\n",
       "      <td>luxury sedan</td>\n",
       "      <td>parf car, premium ad car</td>\n",
       "      <td>...</td>\n",
       "      <td>NaN</td>\n",
       "      <td>NaN</td>\n",
       "      <td>uncategorized</td>\n",
       "      <td>responsive and fuel efficient 1.6l inline 4 cy...</td>\n",
       "      <td>dual electric/memory seats. factory fitted aud...</td>\n",
       "      <td>NaN</td>\n",
       "      <td>95500.0</td>\n",
       "      <td>5.197260</td>\n",
       "      <td>26041.0</td>\n",
       "      <td>Mercedes-Benz</td>\n",
       "    </tr>\n",
       "    <tr>\n",
       "      <th>3</th>\n",
       "      <td>1019371</td>\n",
       "      <td>Mercedes-Benz E-Class E180 Avantgarde</td>\n",
       "      <td>mercedes-benz</td>\n",
       "      <td>e180</td>\n",
       "      <td>fully agent maintained, 3 years warranty 10 ye...</td>\n",
       "      <td>2019.0</td>\n",
       "      <td>NaN</td>\n",
       "      <td>17-nov-2020</td>\n",
       "      <td>luxury sedan</td>\n",
       "      <td>parf car, almost new car, consignment car</td>\n",
       "      <td>...</td>\n",
       "      <td>NaN</td>\n",
       "      <td>NaN</td>\n",
       "      <td>uncategorized</td>\n",
       "      <td>1.5l inline-4 twin scroll turbocharged engine,...</td>\n",
       "      <td>64 colour ambient lighting. active parking ass...</td>\n",
       "      <td>NaN</td>\n",
       "      <td>197900.0</td>\n",
       "      <td>0.879452</td>\n",
       "      <td>56977.0</td>\n",
       "      <td>Mercedes-Benz</td>\n",
       "    </tr>\n",
       "    <tr>\n",
       "      <th>4</th>\n",
       "      <td>1031014</td>\n",
       "      <td>Honda Civic 1.6A VTi</td>\n",
       "      <td>NaN</td>\n",
       "      <td>civic</td>\n",
       "      <td>kah motor unit! 1 owner, lowest 1.98% for full...</td>\n",
       "      <td>2019.0</td>\n",
       "      <td>NaN</td>\n",
       "      <td>20-sep-2019</td>\n",
       "      <td>mid-sized sedan</td>\n",
       "      <td>parf car</td>\n",
       "      <td>...</td>\n",
       "      <td>NaN</td>\n",
       "      <td>NaN</td>\n",
       "      <td>uncategorized</td>\n",
       "      <td>1.6l i-vtec engine, 123 bhp, earth dreams cvt ...</td>\n",
       "      <td>s/rims, premium leather seats, factory touch s...</td>\n",
       "      <td>NaN</td>\n",
       "      <td>103200.0</td>\n",
       "      <td>2.041096</td>\n",
       "      <td>20101.0</td>\n",
       "      <td>Honda</td>\n",
       "    </tr>\n",
       "  </tbody>\n",
       "</table>\n",
       "<p>5 rows × 33 columns</p>\n",
       "</div>"
      ],
      "text/plain": [
       "   listing_id                                   title           make   model  \\\n",
       "0     1030324  BMW 3 Series 320i Gran Turismo M-Sport            bmw    320i   \n",
       "1     1021510                       Toyota Hiace 3.0M            NaN   hiace   \n",
       "2     1026909          Mercedes-Benz CLA-Class CLA180  mercedes-benz  cla180   \n",
       "3     1019371   Mercedes-Benz E-Class E180 Avantgarde  mercedes-benz    e180   \n",
       "4     1031014                    Honda Civic 1.6A VTi            NaN   civic   \n",
       "\n",
       "                                         description  manufactured  \\\n",
       "0  1 owner! 320i gt m-sports model! big brake kit...        2013.0   \n",
       "1  high loan available! low mileage unit. wear an...        2014.0   \n",
       "2  1 owner c&c unit. full agent service with 1 mo...        2016.0   \n",
       "3  fully agent maintained, 3 years warranty 10 ye...        2019.0   \n",
       "4  kah motor unit! 1 owner, lowest 1.98% for full...        2019.0   \n",
       "\n",
       "  original_reg_date     reg_date  type_of_vehicle  \\\n",
       "0               NaN  09-dec-2013     luxury sedan   \n",
       "1               NaN  26-jan-2015              van   \n",
       "2               NaN  25-jul-2016     luxury sedan   \n",
       "3               NaN  17-nov-2020     luxury sedan   \n",
       "4               NaN  20-sep-2019  mid-sized sedan   \n",
       "\n",
       "                                    category  ... opc_scheme     lifespan  \\\n",
       "0  parf car, premium ad car, low mileage car  ...        NaN          NaN   \n",
       "1                             premium ad car  ...        NaN  25-jan-2035   \n",
       "2                   parf car, premium ad car  ...        NaN          NaN   \n",
       "3  parf car, almost new car, consignment car  ...        NaN          NaN   \n",
       "4                                   parf car  ...        NaN          NaN   \n",
       "\n",
       "    eco_category                                           features  \\\n",
       "0  uncategorized  5 doors gt, powerful and fuel efficient 2.0l t...   \n",
       "1  uncategorized  low mileage unit. well maintained vehicle. vie...   \n",
       "2  uncategorized  responsive and fuel efficient 1.6l inline 4 cy...   \n",
       "3  uncategorized  1.5l inline-4 twin scroll turbocharged engine,...   \n",
       "4  uncategorized  1.6l i-vtec engine, 123 bhp, earth dreams cvt ...   \n",
       "\n",
       "                                         accessories  indicative_price  \\\n",
       "0  bmw i-drive, navigation, bluetooth/aux/usb inp...               NaN   \n",
       "1  factory radio setting. front recording camera....               NaN   \n",
       "2  dual electric/memory seats. factory fitted aud...               NaN   \n",
       "3  64 colour ambient lighting. active parking ass...               NaN   \n",
       "4  s/rims, premium leather seats, factory touch s...               NaN   \n",
       "\n",
       "      price  reg_date_processed  ARF_calculated   manufacturer  \n",
       "0   71300.0            7.824658         50462.0            BMW  \n",
       "1   43800.0            6.693151          1376.0         Toyota  \n",
       "2   95500.0            5.197260         26041.0  Mercedes-Benz  \n",
       "3  197900.0            0.879452         56977.0  Mercedes-Benz  \n",
       "4  103200.0            2.041096         20101.0          Honda  \n",
       "\n",
       "[5 rows x 33 columns]"
      ]
     },
     "execution_count": 21,
     "metadata": {},
     "output_type": "execute_result"
    }
   ],
   "source": [
    "###test\n",
    "fc = FeatureCreator()\n",
    "df_proced = fc.fit_transform(df)\n",
    "df_proced.head()"
   ]
  },
  {
   "cell_type": "markdown",
   "metadata": {
    "id": "VObKSZYmSKQC"
   },
   "source": [
    "### 3.2 Create imputor and encoders"
   ]
  },
  {
   "cell_type": "code",
   "execution_count": 22,
   "metadata": {},
   "outputs": [],
   "source": [
    "#create imputers\n",
    "num_imp = SimpleImputer(strategy='mean')\n",
    "cat_imp = SimpleImputer(strategy=\"most_frequent\")"
   ]
  },
  {
   "cell_type": "code",
   "execution_count": 23,
   "metadata": {
    "ExecuteTime": {
     "end_time": "2021-11-09T13:34:56.067342Z",
     "start_time": "2021-11-09T13:34:56.056402Z"
    },
    "id": "D2ov-QVsSKQC"
   },
   "outputs": [],
   "source": [
    "#create transformers\n",
    "cat_enc = OneHotEncoder(handle_unknown='ignore')\n",
    "\n",
    "#create encoders\n",
    "num_encoder = num_imp\n",
    "cat_encoder = Pipeline(steps=[('cat_imp', cat_imp), ('cat_enc', cat_enc)])\n"
   ]
  },
  {
   "cell_type": "code",
   "execution_count": 24,
   "metadata": {
    "ExecuteTime": {
     "end_time": "2021-11-09T13:47:25.919579Z",
     "start_time": "2021-11-09T13:47:25.902659Z"
    },
    "id": "9ntAAQEXSKQC"
   },
   "outputs": [],
   "source": [
    "from sklearn import compose\n",
    "\n",
    "num_cols = ['manufactured', 'curb_weight', 'power', 'engine_cap', 'no_of_owners','omv',\n",
    "             'coe','dereg_value', 'mileage','reg_date_processed','ARF_calculated','depreciation']\n",
    "#cat_cols = [ 'type_of_vehicle', 'transmission', 'manufacturer']\n",
    "\n",
    "coltfr = compose.ColumnTransformer(\n",
    "                transformers=[\n",
    "                  ('num', num_encoder, num_cols),\n",
    "#                  ('cat', cat_encoder, cat_cols),\n",
    "                ], remainder ='drop')\n",
    "                \n",
    "preprocessor = Pipeline(steps=[\n",
    "    ('featcreate', FeatureCreator()),\n",
    "    ('colproc', coltfr)\n",
    "])"
   ]
  },
  {
   "cell_type": "code",
   "execution_count": 25,
   "metadata": {
    "ExecuteTime": {
     "end_time": "2021-11-09T13:35:06.453917Z",
     "start_time": "2021-11-09T13:35:06.431977Z"
    },
    "colab": {
     "base_uri": "https://localhost:8080/"
    },
    "id": "QwMV0JdxSKQC",
    "outputId": "c2039bd6-94cb-40a4-b09e-616f7178c8bf"
   },
   "outputs": [],
   "source": [
    "df_num_proced = pd.DataFrame(preprocessor.fit_transform(df))"
   ]
  },
  {
   "cell_type": "code",
   "execution_count": 26,
   "metadata": {},
   "outputs": [
    {
     "data": {
      "text/html": [
       "<div>\n",
       "<style scoped>\n",
       "    .dataframe tbody tr th:only-of-type {\n",
       "        vertical-align: middle;\n",
       "    }\n",
       "\n",
       "    .dataframe tbody tr th {\n",
       "        vertical-align: top;\n",
       "    }\n",
       "\n",
       "    .dataframe thead th {\n",
       "        text-align: right;\n",
       "    }\n",
       "</style>\n",
       "<table border=\"1\" class=\"dataframe\">\n",
       "  <thead>\n",
       "    <tr style=\"text-align: right;\">\n",
       "      <th></th>\n",
       "      <th>manufactured</th>\n",
       "      <th>curb_weight</th>\n",
       "      <th>power</th>\n",
       "      <th>engine_cap</th>\n",
       "      <th>no_of_owners</th>\n",
       "      <th>omv</th>\n",
       "      <th>coe</th>\n",
       "      <th>dereg_value</th>\n",
       "      <th>mileage</th>\n",
       "      <th>reg_date_processed</th>\n",
       "      <th>ARF_calculated</th>\n",
       "      <th>depreciation</th>\n",
       "    </tr>\n",
       "  </thead>\n",
       "  <tbody>\n",
       "    <tr>\n",
       "      <th>0</th>\n",
       "      <td>2013.0</td>\n",
       "      <td>1560.0</td>\n",
       "      <td>135.000000</td>\n",
       "      <td>1997.0</td>\n",
       "      <td>1.0</td>\n",
       "      <td>45330.0</td>\n",
       "      <td>77100.0</td>\n",
       "      <td>47514.0</td>\n",
       "      <td>73000.0</td>\n",
       "      <td>7.824658</td>\n",
       "      <td>50462.0</td>\n",
       "      <td>17700.0</td>\n",
       "    </tr>\n",
       "    <tr>\n",
       "      <th>1</th>\n",
       "      <td>2014.0</td>\n",
       "      <td>1740.0</td>\n",
       "      <td>133.787104</td>\n",
       "      <td>2982.0</td>\n",
       "      <td>3.0</td>\n",
       "      <td>27502.0</td>\n",
       "      <td>10660.0</td>\n",
       "      <td>3648.0</td>\n",
       "      <td>110112.0</td>\n",
       "      <td>6.693151</td>\n",
       "      <td>1376.0</td>\n",
       "      <td>11630.0</td>\n",
       "    </tr>\n",
       "    <tr>\n",
       "      <th>2</th>\n",
       "      <td>2016.0</td>\n",
       "      <td>1430.0</td>\n",
       "      <td>90.000000</td>\n",
       "      <td>1595.0</td>\n",
       "      <td>1.0</td>\n",
       "      <td>27886.0</td>\n",
       "      <td>53694.0</td>\n",
       "      <td>44517.0</td>\n",
       "      <td>80000.0</td>\n",
       "      <td>5.197260</td>\n",
       "      <td>26041.0</td>\n",
       "      <td>15070.0</td>\n",
       "    </tr>\n",
       "    <tr>\n",
       "      <th>3</th>\n",
       "      <td>2019.0</td>\n",
       "      <td>1635.0</td>\n",
       "      <td>115.000000</td>\n",
       "      <td>1497.0</td>\n",
       "      <td>1.0</td>\n",
       "      <td>46412.0</td>\n",
       "      <td>40690.0</td>\n",
       "      <td>80301.0</td>\n",
       "      <td>9800.0</td>\n",
       "      <td>0.879452</td>\n",
       "      <td>56977.0</td>\n",
       "      <td>16400.0</td>\n",
       "    </tr>\n",
       "    <tr>\n",
       "      <th>4</th>\n",
       "      <td>2019.0</td>\n",
       "      <td>1237.0</td>\n",
       "      <td>92.000000</td>\n",
       "      <td>1597.0</td>\n",
       "      <td>1.0</td>\n",
       "      <td>20072.0</td>\n",
       "      <td>26667.0</td>\n",
       "      <td>36453.0</td>\n",
       "      <td>40000.0</td>\n",
       "      <td>2.041096</td>\n",
       "      <td>20101.0</td>\n",
       "      <td>10450.0</td>\n",
       "    </tr>\n",
       "    <tr>\n",
       "      <th>...</th>\n",
       "      <td>...</td>\n",
       "      <td>...</td>\n",
       "      <td>...</td>\n",
       "      <td>...</td>\n",
       "      <td>...</td>\n",
       "      <td>...</td>\n",
       "      <td>...</td>\n",
       "      <td>...</td>\n",
       "      <td>...</td>\n",
       "      <td>...</td>\n",
       "      <td>...</td>\n",
       "      <td>...</td>\n",
       "    </tr>\n",
       "    <tr>\n",
       "      <th>21779</th>\n",
       "      <td>2017.0</td>\n",
       "      <td>1449.0</td>\n",
       "      <td>84.000000</td>\n",
       "      <td>1600.0</td>\n",
       "      <td>2.0</td>\n",
       "      <td>13452.0</td>\n",
       "      <td>36001.0</td>\n",
       "      <td>32035.0</td>\n",
       "      <td>88000.0</td>\n",
       "      <td>4.016438</td>\n",
       "      <td>13452.0</td>\n",
       "      <td>9640.0</td>\n",
       "    </tr>\n",
       "    <tr>\n",
       "      <th>21780</th>\n",
       "      <td>2019.0</td>\n",
       "      <td>1775.0</td>\n",
       "      <td>125.000000</td>\n",
       "      <td>2362.0</td>\n",
       "      <td>1.0</td>\n",
       "      <td>34487.0</td>\n",
       "      <td>41001.0</td>\n",
       "      <td>62123.0</td>\n",
       "      <td>15000.0</td>\n",
       "      <td>1.928767</td>\n",
       "      <td>40282.0</td>\n",
       "      <td>15860.0</td>\n",
       "    </tr>\n",
       "    <tr>\n",
       "      <th>21781</th>\n",
       "      <td>2013.0</td>\n",
       "      <td>1405.0</td>\n",
       "      <td>100.000000</td>\n",
       "      <td>1598.0</td>\n",
       "      <td>1.0</td>\n",
       "      <td>35847.0</td>\n",
       "      <td>72369.0</td>\n",
       "      <td>36502.0</td>\n",
       "      <td>65000.0</td>\n",
       "      <td>7.717808</td>\n",
       "      <td>32186.0</td>\n",
       "      <td>14610.0</td>\n",
       "    </tr>\n",
       "    <tr>\n",
       "      <th>21782</th>\n",
       "      <td>2016.0</td>\n",
       "      <td>1190.0</td>\n",
       "      <td>96.000000</td>\n",
       "      <td>1496.0</td>\n",
       "      <td>1.0</td>\n",
       "      <td>23650.0</td>\n",
       "      <td>53334.0</td>\n",
       "      <td>42129.0</td>\n",
       "      <td>45188.0</td>\n",
       "      <td>5.041096</td>\n",
       "      <td>20110.0</td>\n",
       "      <td>11390.0</td>\n",
       "    </tr>\n",
       "    <tr>\n",
       "      <th>21783</th>\n",
       "      <td>2008.0</td>\n",
       "      <td>1219.0</td>\n",
       "      <td>103.000000</td>\n",
       "      <td>1799.0</td>\n",
       "      <td>2.0</td>\n",
       "      <td>22644.0</td>\n",
       "      <td>16061.0</td>\n",
       "      <td>6864.0</td>\n",
       "      <td>197800.0</td>\n",
       "      <td>12.926027</td>\n",
       "      <td>22644.0</td>\n",
       "      <td>8800.0</td>\n",
       "    </tr>\n",
       "  </tbody>\n",
       "</table>\n",
       "<p>21784 rows × 12 columns</p>\n",
       "</div>"
      ],
      "text/plain": [
       "       manufactured  curb_weight       power  engine_cap  no_of_owners  \\\n",
       "0            2013.0       1560.0  135.000000      1997.0           1.0   \n",
       "1            2014.0       1740.0  133.787104      2982.0           3.0   \n",
       "2            2016.0       1430.0   90.000000      1595.0           1.0   \n",
       "3            2019.0       1635.0  115.000000      1497.0           1.0   \n",
       "4            2019.0       1237.0   92.000000      1597.0           1.0   \n",
       "...             ...          ...         ...         ...           ...   \n",
       "21779        2017.0       1449.0   84.000000      1600.0           2.0   \n",
       "21780        2019.0       1775.0  125.000000      2362.0           1.0   \n",
       "21781        2013.0       1405.0  100.000000      1598.0           1.0   \n",
       "21782        2016.0       1190.0   96.000000      1496.0           1.0   \n",
       "21783        2008.0       1219.0  103.000000      1799.0           2.0   \n",
       "\n",
       "           omv      coe  dereg_value   mileage  reg_date_processed  \\\n",
       "0      45330.0  77100.0      47514.0   73000.0            7.824658   \n",
       "1      27502.0  10660.0       3648.0  110112.0            6.693151   \n",
       "2      27886.0  53694.0      44517.0   80000.0            5.197260   \n",
       "3      46412.0  40690.0      80301.0    9800.0            0.879452   \n",
       "4      20072.0  26667.0      36453.0   40000.0            2.041096   \n",
       "...        ...      ...          ...       ...                 ...   \n",
       "21779  13452.0  36001.0      32035.0   88000.0            4.016438   \n",
       "21780  34487.0  41001.0      62123.0   15000.0            1.928767   \n",
       "21781  35847.0  72369.0      36502.0   65000.0            7.717808   \n",
       "21782  23650.0  53334.0      42129.0   45188.0            5.041096   \n",
       "21783  22644.0  16061.0       6864.0  197800.0           12.926027   \n",
       "\n",
       "       ARF_calculated  depreciation  \n",
       "0             50462.0       17700.0  \n",
       "1              1376.0       11630.0  \n",
       "2             26041.0       15070.0  \n",
       "3             56977.0       16400.0  \n",
       "4             20101.0       10450.0  \n",
       "...               ...           ...  \n",
       "21779         13452.0        9640.0  \n",
       "21780         40282.0       15860.0  \n",
       "21781         32186.0       14610.0  \n",
       "21782         20110.0       11390.0  \n",
       "21783         22644.0        8800.0  \n",
       "\n",
       "[21784 rows x 12 columns]"
      ]
     },
     "execution_count": 26,
     "metadata": {},
     "output_type": "execute_result"
    }
   ],
   "source": [
    "df_num_proced.columns = num_cols\n",
    "df_num_proced"
   ]
  },
  {
   "cell_type": "code",
   "execution_count": 27,
   "metadata": {},
   "outputs": [],
   "source": [
    "df_num_proced['filter'] = df_num_proced.omv.copy()"
   ]
  },
  {
   "cell_type": "code",
   "execution_count": 28,
   "metadata": {},
   "outputs": [],
   "source": [
    "f1 = df_num_proced[df_num_proced['filter']<=20000]\n",
    "f2 = df_num_proced[df_num_proced['filter'].between(20000,50000)]\n",
    "f3 = df_num_proced[df_num_proced['filter']>=50000]"
   ]
  },
  {
   "cell_type": "code",
   "execution_count": 29,
   "metadata": {},
   "outputs": [
    {
     "data": {
      "text/plain": [
       "(6432, 13)"
      ]
     },
     "execution_count": 29,
     "metadata": {},
     "output_type": "execute_result"
    }
   ],
   "source": [
    "f1.shape"
   ]
  },
  {
   "cell_type": "code",
   "execution_count": 30,
   "metadata": {},
   "outputs": [
    {
     "data": {
      "text/plain": [
       "(11630, 13)"
      ]
     },
     "execution_count": 30,
     "metadata": {},
     "output_type": "execute_result"
    }
   ],
   "source": [
    "f2.shape"
   ]
  },
  {
   "cell_type": "code",
   "execution_count": 31,
   "metadata": {},
   "outputs": [
    {
     "data": {
      "text/plain": [
       "(3743, 13)"
      ]
     },
     "execution_count": 31,
     "metadata": {},
     "output_type": "execute_result"
    }
   ],
   "source": [
    "f3.shape"
   ]
  },
  {
   "cell_type": "markdown",
   "metadata": {},
   "source": [
    "## 4. regression model\n"
   ]
  },
  {
   "cell_type": "markdown",
   "metadata": {},
   "source": [
    "### 4.1 category f1"
   ]
  },
  {
   "cell_type": "code",
   "execution_count": 32,
   "metadata": {},
   "outputs": [
    {
     "data": {
      "text/plain": [
       "(6432, 12)"
      ]
     },
     "execution_count": 32,
     "metadata": {},
     "output_type": "execute_result"
    }
   ],
   "source": [
    "f1 = f1.drop('filter', axis=1)\n",
    "f1.shape"
   ]
  },
  {
   "cell_type": "code",
   "execution_count": 33,
   "metadata": {},
   "outputs": [
    {
     "data": {
      "text/html": [
       "<div>\n",
       "<style scoped>\n",
       "    .dataframe tbody tr th:only-of-type {\n",
       "        vertical-align: middle;\n",
       "    }\n",
       "\n",
       "    .dataframe tbody tr th {\n",
       "        vertical-align: top;\n",
       "    }\n",
       "\n",
       "    .dataframe thead th {\n",
       "        text-align: right;\n",
       "    }\n",
       "</style>\n",
       "<table border=\"1\" class=\"dataframe\">\n",
       "  <thead>\n",
       "    <tr style=\"text-align: right;\">\n",
       "      <th></th>\n",
       "      <th>manufactured</th>\n",
       "      <th>curb_weight</th>\n",
       "      <th>power</th>\n",
       "      <th>engine_cap</th>\n",
       "      <th>no_of_owners</th>\n",
       "      <th>omv</th>\n",
       "      <th>coe</th>\n",
       "      <th>dereg_value</th>\n",
       "      <th>mileage</th>\n",
       "      <th>reg_date_processed</th>\n",
       "      <th>ARF_calculated</th>\n",
       "      <th>depreciation</th>\n",
       "    </tr>\n",
       "  </thead>\n",
       "  <tbody>\n",
       "    <tr>\n",
       "      <th>8</th>\n",
       "      <td>2011.0</td>\n",
       "      <td>1195.0</td>\n",
       "      <td>90.0</td>\n",
       "      <td>1598.0</td>\n",
       "      <td>2.0</td>\n",
       "      <td>15263.0</td>\n",
       "      <td>42283.0</td>\n",
       "      <td>40951.0</td>\n",
       "      <td>72712.078801</td>\n",
       "      <td>10.230137</td>\n",
       "      <td>15263.0</td>\n",
       "      <td>6280.0</td>\n",
       "    </tr>\n",
       "    <tr>\n",
       "      <th>10</th>\n",
       "      <td>2017.0</td>\n",
       "      <td>1295.0</td>\n",
       "      <td>95.3</td>\n",
       "      <td>1591.0</td>\n",
       "      <td>1.0</td>\n",
       "      <td>12900.0</td>\n",
       "      <td>42801.0</td>\n",
       "      <td>35227.0</td>\n",
       "      <td>72712.078801</td>\n",
       "      <td>4.142466</td>\n",
       "      <td>12900.0</td>\n",
       "      <td>8270.0</td>\n",
       "    </tr>\n",
       "    <tr>\n",
       "      <th>12</th>\n",
       "      <td>2019.0</td>\n",
       "      <td>1345.0</td>\n",
       "      <td>93.8</td>\n",
       "      <td>1591.0</td>\n",
       "      <td>1.0</td>\n",
       "      <td>18272.0</td>\n",
       "      <td>33009.0</td>\n",
       "      <td>41097.0</td>\n",
       "      <td>27000.000000</td>\n",
       "      <td>1.816438</td>\n",
       "      <td>18272.0</td>\n",
       "      <td>8390.0</td>\n",
       "    </tr>\n",
       "    <tr>\n",
       "      <th>25</th>\n",
       "      <td>2017.0</td>\n",
       "      <td>1130.0</td>\n",
       "      <td>97.0</td>\n",
       "      <td>1496.0</td>\n",
       "      <td>1.0</td>\n",
       "      <td>18656.0</td>\n",
       "      <td>39903.0</td>\n",
       "      <td>33126.0</td>\n",
       "      <td>59900.000000</td>\n",
       "      <td>3.432877</td>\n",
       "      <td>8656.0</td>\n",
       "      <td>10100.0</td>\n",
       "    </tr>\n",
       "    <tr>\n",
       "      <th>26</th>\n",
       "      <td>2008.0</td>\n",
       "      <td>1200.0</td>\n",
       "      <td>81.0</td>\n",
       "      <td>1496.0</td>\n",
       "      <td>5.0</td>\n",
       "      <td>19083.0</td>\n",
       "      <td>16438.0</td>\n",
       "      <td>12304.0</td>\n",
       "      <td>115000.000000</td>\n",
       "      <td>11.323288</td>\n",
       "      <td>19083.0</td>\n",
       "      <td>8760.0</td>\n",
       "    </tr>\n",
       "  </tbody>\n",
       "</table>\n",
       "</div>"
      ],
      "text/plain": [
       "    manufactured  curb_weight  power  engine_cap  no_of_owners      omv  \\\n",
       "8         2011.0       1195.0   90.0      1598.0           2.0  15263.0   \n",
       "10        2017.0       1295.0   95.3      1591.0           1.0  12900.0   \n",
       "12        2019.0       1345.0   93.8      1591.0           1.0  18272.0   \n",
       "25        2017.0       1130.0   97.0      1496.0           1.0  18656.0   \n",
       "26        2008.0       1200.0   81.0      1496.0           5.0  19083.0   \n",
       "\n",
       "        coe  dereg_value        mileage  reg_date_processed  ARF_calculated  \\\n",
       "8   42283.0      40951.0   72712.078801           10.230137         15263.0   \n",
       "10  42801.0      35227.0   72712.078801            4.142466         12900.0   \n",
       "12  33009.0      41097.0   27000.000000            1.816438         18272.0   \n",
       "25  39903.0      33126.0   59900.000000            3.432877          8656.0   \n",
       "26  16438.0      12304.0  115000.000000           11.323288         19083.0   \n",
       "\n",
       "    depreciation  \n",
       "8         6280.0  \n",
       "10        8270.0  \n",
       "12        8390.0  \n",
       "25       10100.0  \n",
       "26        8760.0  "
      ]
     },
     "execution_count": 33,
     "metadata": {},
     "output_type": "execute_result"
    }
   ],
   "source": [
    "f1.head()"
   ]
  },
  {
   "cell_type": "markdown",
   "metadata": {},
   "source": [
    "### 4.1.1find best model"
   ]
  },
  {
   "cell_type": "markdown",
   "metadata": {},
   "source": [
    "Split train data and validation data\n",
    "\n",
    "on 80% train, 20% validation basis"
   ]
  },
  {
   "cell_type": "code",
   "execution_count": 34,
   "metadata": {},
   "outputs": [],
   "source": [
    "X1 = f1.drop('depreciation', axis=1)\n",
    "y1 = f1['depreciation']"
   ]
  },
  {
   "cell_type": "code",
   "execution_count": 35,
   "metadata": {},
   "outputs": [],
   "source": [
    "X_train,X_test,y_train,y_test = train_test_split(X1,y1,test_size=0.3,random_state=13)"
   ]
  },
  {
   "cell_type": "code",
   "execution_count": 36,
   "metadata": {},
   "outputs": [],
   "source": [
    "from sklearn.feature_selection import f_regression\n",
    "from sklearn.ensemble import RandomForestRegressor, GradientBoostingRegressor, AdaBoostRegressor"
   ]
  },
  {
   "cell_type": "code",
   "execution_count": 37,
   "metadata": {},
   "outputs": [],
   "source": [
    "scaler = StandardScaler(with_mean=False)\n",
    "\n",
    "est1 = Pipeline(steps=[('scaler',scaler),\n",
    "                       ('regression', DecisionTreeRegressor(random_state = 0))])\n",
    "\n",
    "est2 = Pipeline(steps=[('scaler',scaler),\n",
    "                       ('regression', KNeighborsRegressor(n_neighbors=3))])\n",
    "\n",
    "est3 = Pipeline(steps=[('scaler',scaler),\n",
    "                       ('regression', RandomForestRegressor(random_state =0, \n",
    "                                                            n_estimators =20))])\n",
    "\n",
    "est4 = Pipeline(steps=[('scaler',scaler),\n",
    "                       ('regression', AdaBoostRegressor(random_state =0 ))])\n",
    "\n",
    "est5 = Pipeline(steps=[('scaler',scaler),\n",
    "                       ('regression', GradientBoostingRegressor(random_state =0))])"
   ]
  },
  {
   "cell_type": "code",
   "execution_count": 38,
   "metadata": {},
   "outputs": [
    {
     "name": "stdout",
     "output_type": "stream",
     "text": [
      "est 1, RMSE training =      5 (     3), RMSE validation =   3900 (  2071)\n",
      "est 2, RMSE training =   1998 (   625), RMSE validation =   2629 (  1640)\n",
      "est 3, RMSE training =   1158 (   427), RMSE validation =   2585 (  1665)\n",
      "est 4, RMSE training =   1678 (   133), RMSE validation =   3322 (  1969)\n",
      "est 5, RMSE training =    879 (    26), RMSE validation =   2606 (  1737)\n"
     ]
    }
   ],
   "source": [
    "i=0\n",
    "for est in [est1, est2, est3, est4, est5]:\n",
    "\n",
    "    # Perform 10-fold cross_validations\n",
    "    scores = cross_validate(est, X_train, y_train, cv=5, scoring='neg_root_mean_squared_error', return_train_score=True)\n",
    "    RMSE_train = scores['train_score'] * (-1)\n",
    "    RMSE_valid = scores['test_score'] * (-1)\n",
    "    \n",
    "    i+=1\n",
    "    print('est {}, RMSE training = {:6.0f} ({:6.0f}), RMSE validation = {:6.0f} ({:6.0f})'\n",
    "          .format(i, np.mean(RMSE_train), np.std(RMSE_train), np.mean(RMSE_valid), np.std(RMSE_valid)))"
   ]
  },
  {
   "cell_type": "markdown",
   "metadata": {},
   "source": [
    "from the result, we can find that the est3 has lowest RMSE, so we decided to choose est3:randomforest as the best model."
   ]
  },
  {
   "cell_type": "markdown",
   "metadata": {},
   "source": [
    "### 4.1.2 feature importance"
   ]
  },
  {
   "cell_type": "code",
   "execution_count": 39,
   "metadata": {},
   "outputs": [
    {
     "name": "stdout",
     "output_type": "stream",
     "text": [
      "Feature: 0, Score: 0.03317 manufactured\n",
      "Feature: 1, Score: 0.05988 curb_weight\n",
      "Feature: 2, Score: 0.11579 power\n",
      "Feature: 3, Score: 0.21928 engine_cap\n",
      "Feature: 4, Score: 0.00737 no_of_owners\n",
      "Feature: 5, Score: 0.04770 omv\n",
      "Feature: 6, Score: 0.21904 coe\n",
      "Feature: 7, Score: 0.13222 dereg_value\n",
      "Feature: 8, Score: 0.01827 mileage\n",
      "Feature: 9, Score: 0.10303 reg_date_processed\n",
      "Feature: 10, Score: 0.04424 ARF_calculated\n"
     ]
    },
    {
     "data": {
      "image/png": "[encoded data removed]",
      "text/plain": [
       "<Figure size 432x288 with 1 Axes>"
      ]
     },
     "metadata": {},
     "output_type": "display_data"
    }
   ],
   "source": [
    "model1 = RandomForestRegressor()\n",
    "model1.fit(X1, y1)\n",
    "# get importance\n",
    "importance = model1.feature_importances_\n",
    "# summarize feature importance\n",
    "for i,v in enumerate(importance):\n",
    "    print('Feature: %0d, Score: %.5f' % (i,v),X1.columns[i])\n",
    "plt.bar([x for x in range(len(importance))], importance)\n",
    "plt.show()"
   ]
  },
  {
   "cell_type": "markdown",
   "metadata": {},
   "source": [
    "The three most important factors influencing omv prices below 20,000 used cars in order of importance are:`engine_cap`,`coe`,`dereg_value`."
   ]
  },
  {
   "cell_type": "markdown",
   "metadata": {},
   "source": [
    "### 4.2 category f2"
   ]
  },
  {
   "cell_type": "code",
   "execution_count": 40,
   "metadata": {},
   "outputs": [],
   "source": [
    "f2 = f2.drop('filter', axis=1)\n",
    "f2.shape\n",
    "X2 = f2.drop('depreciation', axis=1)\n",
    "y2 = f2['depreciation']"
   ]
  },
  {
   "cell_type": "code",
   "execution_count": 41,
   "metadata": {},
   "outputs": [],
   "source": [
    "X_train,X_test,y_train,y_test = train_test_split(X2,y2,test_size=0.3,random_state=13)"
   ]
  },
  {
   "cell_type": "markdown",
   "metadata": {},
   "source": [
    "### 4.2.1find best model"
   ]
  },
  {
   "cell_type": "code",
   "execution_count": 42,
   "metadata": {},
   "outputs": [
    {
     "name": "stdout",
     "output_type": "stream",
     "text": [
      "est 1, RMSE training =      9 (     3), RMSE validation =   4058 (   710)\n",
      "est 2, RMSE training =   2403 (   232), RMSE validation =   3367 (   713)\n",
      "est 3, RMSE training =   1261 (   108), RMSE validation =   3004 (   883)\n",
      "est 4, RMSE training =   7254 (  2306), RMSE validation =   7862 (  1799)\n",
      "est 5, RMSE training =   1977 (    64), RMSE validation =   3388 (   786)\n"
     ]
    }
   ],
   "source": [
    "i=0\n",
    "for est in [est1, est2, est3, est4, est5]:\n",
    "\n",
    "    # Perform 10-fold cross_validations\n",
    "    scores = cross_validate(est, X_train, y_train, cv=5, scoring='neg_root_mean_squared_error', return_train_score=True)\n",
    "    RMSE_train = scores['train_score'] * (-1)\n",
    "    RMSE_valid = scores['test_score'] * (-1)\n",
    "    \n",
    "    i+=1\n",
    "    print('est {}, RMSE training = {:6.0f} ({:6.0f}), RMSE validation = {:6.0f} ({:6.0f})'\n",
    "          .format(i, np.mean(RMSE_train), np.std(RMSE_train), np.mean(RMSE_valid), np.std(RMSE_valid)))"
   ]
  },
  {
   "cell_type": "markdown",
   "metadata": {},
   "source": [
    "we choose the est 3: random forest as the best model."
   ]
  },
  {
   "cell_type": "markdown",
   "metadata": {},
   "source": [
    "### 4.2.2 feature importance"
   ]
  },
  {
   "cell_type": "markdown",
   "metadata": {},
   "source": [
    "we choose est 5 as the best model for f2"
   ]
  },
  {
   "cell_type": "code",
   "execution_count": 43,
   "metadata": {},
   "outputs": [
    {
     "name": "stdout",
     "output_type": "stream",
     "text": [
      "Feature: 0, Score: 0.04995 manufactured\n",
      "Feature: 1, Score: 0.04419 curb_weight\n",
      "Feature: 2, Score: 0.06583 power\n",
      "Feature: 3, Score: 0.04549 engine_cap\n",
      "Feature: 4, Score: 0.01097 no_of_owners\n",
      "Feature: 5, Score: 0.06274 omv\n",
      "Feature: 6, Score: 0.13014 coe\n",
      "Feature: 7, Score: 0.22906 dereg_value\n",
      "Feature: 8, Score: 0.04339 mileage\n",
      "Feature: 9, Score: 0.14784 reg_date_processed\n",
      "Feature: 10, Score: 0.17040 ARF_calculated\n"
     ]
    },
    {
     "data": {
      "image/png": "[encoded data removed]",
      "text/plain": [
       "<Figure size 432x288 with 1 Axes>"
      ]
     },
     "metadata": {},
     "output_type": "display_data"
    }
   ],
   "source": [
    "model2 = RandomForestRegressor()\n",
    "model2.fit(X2, y2)\n",
    "# get importance\n",
    "importance = model2.feature_importances_\n",
    "# summarize feature importance\n",
    "for i,v in enumerate(importance):\n",
    "    print('Feature: %0d, Score: %.5f' % (i,v),X2.columns[i])\n",
    "plt.bar([x for x in range(len(importance))], importance)\n",
    "plt.show()"
   ]
  },
  {
   "cell_type": "markdown",
   "metadata": {},
   "source": [
    "The three most important factors influencing omv prices between 20,0000 and 500000 used cars in order of importance are:`dereg_value`,`ARF_calculated`,`reg_date_processed`."
   ]
  },
  {
   "cell_type": "markdown",
   "metadata": {},
   "source": [
    "### 4.3 category f3"
   ]
  },
  {
   "cell_type": "code",
   "execution_count": 44,
   "metadata": {},
   "outputs": [],
   "source": [
    "f3 = f3.drop('filter', axis=1)\n",
    "f3.shape\n",
    "X3 = f3.drop('depreciation', axis=1)\n",
    "y3 = f3['depreciation']"
   ]
  },
  {
   "cell_type": "code",
   "execution_count": 45,
   "metadata": {},
   "outputs": [],
   "source": [
    "X_train,X_test,y_train,y_test = train_test_split(X3,y3,test_size=0.3,random_state=13)"
   ]
  },
  {
   "cell_type": "markdown",
   "metadata": {},
   "source": [
    "### 4.3.1find best model"
   ]
  },
  {
   "cell_type": "code",
   "execution_count": 46,
   "metadata": {},
   "outputs": [
    {
     "name": "stdout",
     "output_type": "stream",
     "text": [
      "est 1, RMSE training =     54 (    44), RMSE validation =  29160 (  9847)\n",
      "est 2, RMSE training =  20310 (  1748), RMSE validation =  27325 (  7710)\n",
      "est 3, RMSE training =  11592 (  1381), RMSE validation =  23641 (  9385)\n",
      "est 4, RMSE training =  23659 (   951), RMSE validation =  33807 (  8449)\n",
      "est 5, RMSE training =   8150 (   449), RMSE validation =  21894 (  7424)\n"
     ]
    }
   ],
   "source": [
    "i=0\n",
    "for est in [est1, est2, est3, est4, est5]:\n",
    "\n",
    "    # Perform 10-fold cross_validations\n",
    "    scores = cross_validate(est, X_train, y_train, cv=5, scoring='neg_root_mean_squared_error', return_train_score=True)\n",
    "    RMSE_train = scores['train_score'] * (-1)\n",
    "    RMSE_valid = scores['test_score'] * (-1)\n",
    "    \n",
    "    i+=1\n",
    "    print('est {}, RMSE training = {:6.0f} ({:6.0f}), RMSE validation = {:6.0f} ({:6.0f})'\n",
    "          .format(i, np.mean(RMSE_train), np.std(RMSE_train), np.mean(RMSE_valid), np.std(RMSE_valid)))"
   ]
  },
  {
   "cell_type": "markdown",
   "metadata": {},
   "source": [
    "we choose the est 5: gradient boost as the best model."
   ]
  },
  {
   "cell_type": "markdown",
   "metadata": {},
   "source": [
    "### 4.3.2 feature importance"
   ]
  },
  {
   "cell_type": "code",
   "execution_count": 47,
   "metadata": {},
   "outputs": [
    {
     "name": "stdout",
     "output_type": "stream",
     "text": [
      "Feature: 0, Score: 0.01253 manufactured\n",
      "Feature: 1, Score: 0.03447 curb_weight\n",
      "Feature: 2, Score: 0.02649 power\n",
      "Feature: 3, Score: 0.00223 engine_cap\n",
      "Feature: 4, Score: 0.01697 no_of_owners\n",
      "Feature: 5, Score: 0.27700 omv\n",
      "Feature: 6, Score: 0.26046 coe\n",
      "Feature: 7, Score: 0.08773 dereg_value\n",
      "Feature: 8, Score: 0.00555 mileage\n",
      "Feature: 9, Score: 0.15419 reg_date_processed\n",
      "Feature: 10, Score: 0.12238 ARF_calculated\n"
     ]
    },
    {
     "data": {
      "image/png": "[encoded data removed]",
      "text/plain": [
       "<Figure size 432x288 with 1 Axes>"
      ]
     },
     "metadata": {},
     "output_type": "display_data"
    }
   ],
   "source": [
    "model3 = GradientBoostingRegressor()\n",
    "model3.fit(X3, y3)\n",
    "# get importance\n",
    "importance = model3.feature_importances_\n",
    "# summarize feature importance\n",
    "for i,v in enumerate(importance):\n",
    "    print('Feature: %0d, Score: %.5f' % (i,v),X3.columns[i])\n",
    "plt.bar([x for x in range(len(importance))], importance)\n",
    "plt.show()"
   ]
  },
  {
   "cell_type": "markdown",
   "metadata": {},
   "source": [
    "The three most important factors influencing omv prices over 500000 used cars in order of importance are:`coe`,`omv`,`reg_date_processed`."
   ]
  }
 ],
 "metadata": {
  "colab": {
   "collapsed_sections": [
    "D-LmyYDlSKP8",
    "K1DX7b7wSKP_",
    "X21mx1aaSKQA",
    "VObKSZYmSKQC",
    "5kMWY4n3SKQD",
    "_4AkwzP9SKQH",
    "EnzI5x7qSKQI"
   ],
   "name": "Project _7_OCT.ipynb",
   "provenance": []
  },
  "kernelspec": {
   "display_name": "Python 3",
   "language": "python",
   "name": "python3"
  },
  "language_info": {
   "codemirror_mode": {
    "name": "ipython",
    "version": 3
   },
   "file_extension": ".py",
   "mimetype": "text/x-python",
   "name": "python",
   "nbconvert_exporter": "python",
   "pygments_lexer": "ipython3",
   "version": "3.8.5"
  }
 },
 "nbformat": 4,
 "nbformat_minor": 1
}
